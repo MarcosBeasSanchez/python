{
 "cells": [
  {
   "cell_type": "markdown",
   "metadata": {},
   "source": [
    "__Cuaderno de trabajo de:__ Nombre Apellido"
   ]
  },
  {
   "cell_type": "markdown",
   "metadata": {},
   "source": [
    "# Regresión Lineal Múltiple\n",
    "\n",
    "Vamos a continuar con el capítulo 3 del libro [\"Introduction to Statistical Learning\"](http://www-bcf.usc.edu/~gareth/ISL/), ahora con la sección 3.2"
   ]
  },
  {
   "cell_type": "code",
   "execution_count": 1,
   "metadata": {},
   "outputs": [
    {
     "ename": "ModuleNotFoundError",
     "evalue": "No module named 'statsmodels'",
     "output_type": "error",
     "traceback": [
      "\u001b[0;31m---------------------------------------------------------------------------\u001b[0m",
      "\u001b[0;31mModuleNotFoundError\u001b[0m                       Traceback (most recent call last)",
      "\u001b[0;32m<ipython-input-1-72c7713ff7d0>\u001b[0m in \u001b[0;36m<module>\u001b[0;34m\u001b[0m\n\u001b[1;32m      8\u001b[0m \u001b[0;32mimport\u001b[0m \u001b[0msklearn\u001b[0m\u001b[0;34m.\u001b[0m\u001b[0mlinear_model\u001b[0m \u001b[0;32mas\u001b[0m \u001b[0mskl_lm\u001b[0m\u001b[0;34m\u001b[0m\u001b[0;34m\u001b[0m\u001b[0m\n\u001b[1;32m      9\u001b[0m \u001b[0;32mimport\u001b[0m \u001b[0msklearn\u001b[0m\u001b[0;34m.\u001b[0m\u001b[0mmetrics\u001b[0m\u001b[0;34m\u001b[0m\u001b[0;34m\u001b[0m\u001b[0m\n\u001b[0;32m---> 10\u001b[0;31m \u001b[0;32mimport\u001b[0m \u001b[0mstatsmodels\u001b[0m\u001b[0;34m.\u001b[0m\u001b[0mapi\u001b[0m \u001b[0;32mas\u001b[0m \u001b[0msm\u001b[0m\u001b[0;34m\u001b[0m\u001b[0;34m\u001b[0m\u001b[0m\n\u001b[0m\u001b[1;32m     11\u001b[0m \u001b[0;32mimport\u001b[0m \u001b[0mstatsmodels\u001b[0m\u001b[0;34m.\u001b[0m\u001b[0mformula\u001b[0m\u001b[0;34m.\u001b[0m\u001b[0mapi\u001b[0m \u001b[0;32mas\u001b[0m \u001b[0msmf\u001b[0m\u001b[0;34m\u001b[0m\u001b[0;34m\u001b[0m\u001b[0m\n\u001b[1;32m     12\u001b[0m \u001b[0;34m\u001b[0m\u001b[0m\n",
      "\u001b[0;31mModuleNotFoundError\u001b[0m: No module named 'statsmodels'"
     ]
    }
   ],
   "source": [
    "import pandas as pd\n",
    "import numpy as np\n",
    "import matplotlib.pyplot as plt\n",
    "from mpl_toolkits.mplot3d import axes3d\n",
    "import seaborn as sns\n",
    "\n",
    "from sklearn.preprocessing import scale\n",
    "import sklearn.linear_model as skl_lm\n",
    "import sklearn.metrics\n",
    "import statsmodels.api as sm\n",
    "import statsmodels.formula.api as smf\n",
    "\n",
    "pd.set_option('display.notebook_repr_html', False)\n",
    " \n",
    "%matplotlib inline\n",
    "plt.style.use('seaborn-white')"
   ]
  },
  {
   "cell_type": "markdown",
   "metadata": {},
   "source": [
    "## Cargamos los datos\n",
    "\n",
    "Cargamos los conjuntos de datos que vamos a usar\n",
    "\n",
    "Los conjuntos de datos están en la web del libro (pero ya están descargados)\n",
    "http://www-bcf.usc.edu/~gareth/ISL/data.html"
   ]
  },
  {
   "cell_type": "code",
   "execution_count": null,
   "metadata": {},
   "outputs": [],
   "source": [
    "advertising = pd.read_csv('advertising.csv', usecols=[1,2,3,4], na_values='?').dropna()  \n",
    "# na_values='?').dropna()  borra las filas y ciolumnas que tienen Null/NaN \n",
    "advertising.info()"
   ]
  },
  {
   "cell_type": "markdown",
   "metadata": {},
   "source": [
    "## Regresión y ajuste de modelos\n",
    "\n",
    "El análisis de regresión consiste en encontrar un  **modelo** que relaciona los valores medidos de una variable **objetivo** (tb se llama la **respuesta**) en función de un conjunto de variables **explicativas** (tb **variables predictoras**, o **variables explicativas**, o **regresores**).\n",
    "\n",
    "Los valores medidos en el mundo real nunca se ajustan de forma perfecta a un modelo, debido en primer lugar a errores de medida, pero también a que cualquier modelo matemático es una *simplificación* del mundo real, y si tuviera en cuenta todos los factores que influyen en un conjunto de variables, sería inmanejable.\n",
    "\n",
    "Por tanto, no tiene sentido aspirar a encontrar un modelo que prediga exactamente los valores medidos, y debemos admitir que el modelo cometerá un cierto error."
   ]
  },
  {
   "cell_type": "markdown",
   "metadata": {},
   "source": [
    "Un modelo útil encuentra una relación funcional sencilla en conjuntos de pocas variables. Se trata de explicar una variable objetivo en función de otro conjunto de variables mejor conocidas o más fáciles de medir. El  **análisis de regresión**  (más exactamente, el análisis de regresión  *paramétrico*) permite encontrar un modelo explicativo en dos etapas:\n",
    "\n",
    "\n",
    " 1. Nuestro conocimiento del tema en cuestión nos permite escribir un modelo que afirma que la variable  *Y*  es una función de las variables $X_1,\\dots,X_p$. La variable  *Y* se suele llamar la **respuesta** y las variables  $X_1,\\dots,X_p$ se llaman  **variables predictoras**. La forma exacta de la función no está fijada a priori, sino que depende de unos pocos  **parámetros**  libres.\n",
    " \n",
    " Por ejemplo, para la **regresión lineal**, el modelo es\n",
    " $$\n",
    " Y = \\beta_0 + \\beta_1 X_1 + \\beta_2 X_2 + \\dots + \\beta_p X_p + \\epsilon\n",
    " $$\n",
    " donde $\\beta_0,\\dots,\\beta_p$ son los parámetros y $\\epsilon$ es un error que no podemos explicar dentro de este modelo.\n",
    " \n",
    " 2. **Ajustamos el modelo** a los datos de que disponemos, eligiendo los valores de los parámetros para los que la distancia entre los valores medidos de la variable  *Y*  y los valores predichos aplicando el modelo minimizan el error cometido. El error que se suele minimizar es el error cuadrático (**residual sum of squares**):\n",
    "$$\n",
    "RSS = e_1^2 + e_2^2 + \\dots + e_n^2\n",
    "$$\n",
    "donde\n",
    "$$\n",
    "e_1 = y_1 - (\\beta_0 + \\beta_1 X_1^1 + ... + \\beta_p X_p^1), \\dots e_n = y_n - (\\beta_0 + \\beta_1 X_1^n  + ... + \\beta_p X_p^n).\n",
    "$$\n",
    "Es decir, entre todas las posibles combinaciones de coeficientes $(\\beta_0,\\dots,\\beta_p)$ nos quedamos con aquella combinación $(\\hat{\\beta_0},\\hat{\\beta_1},\\dots,\\hat{\\beta_1})$ que minimiza el RSS, y hemos obtenido la  **regresión lineal por mínimos cuadrados** (**least squares**)."
   ]
  },
  {
   "cell_type": "markdown",
   "metadata": {},
   "source": [
    "## Ejemplo: Inversión en publicidad\n",
    "\n",
    "Hacer regresión múltiple consiste en encontrar una función lineal de las variables predictoras que aproxima la función objetivo:\n",
    "\n",
    "$$\n",
    "Sales\\approx \\beta_0 + \\beta_1\\times TV  + \\beta_2\\times radio  + \\beta_3\\times newspaper\n",
    "$$\n",
    "\n",
    "Si incorporamos el término de error, podemos sustituir el signo de aproximación $\\approx$ por uno de igualdad:\n",
    "\n",
    "$$\n",
    "Sales = \\beta_0 + \\beta_1\\times TV  + \\beta_2\\times radio  + \\beta_3\\times newspaper + \\varepsilon\n",
    "$$\n",
    "\n",
    "\n",
    "que minimiza el error cuadrático. Es cualitiva y cuantitivamente distinto de ajustar modelos por separado para cada variable predictora:\n",
    "\n",
    "$$\n",
    "Sales = \\beta_0^{TV} + \\beta_1^{TV}\\times TV + \\varepsilon\n",
    "$$\n",
    "\n",
    "$$\n",
    "Sales = \\beta_0^R + \\beta_1^R\\times radio  + \\varepsilon\n",
    "$$\n",
    "\n",
    "$$\n",
    "Sales = \\beta_0^N + \\beta_1^{N}\\times newspaper + \\varepsilon\n",
    "$$"
   ]
  },
  {
   "cell_type": "markdown",
   "metadata": {},
   "source": [
    "### Regresión lineal múltiple con scikit_learn\n",
    "\n",
    "  1. Definimos un objeto de tipo \"LinearRegression\"\n",
    "\n",
    "```python\n",
    "regr = skl_lm.LinearRegression()\n",
    "```\n",
    "\n",
    "  2. El método ``fit`` **\"ajusta\"** la función lineal, encontrando los valores de $(\\beta_0, \\beta_1, \\dots, \\beta_p)$ para los que el error cuadrático cometido es menor. Necesita dos argumentos:\n",
    "      - Un **array 2D de numpy** o un **DataFrame** X con las variables predictoras. No acepta una serie ni un array 1D.\n",
    "      - Una **Serie** y con la variable objetivo.\n",
    "\n",
    "```python\n",
    "X = advertising[['TV', 'Radio', 'Newspaper']]\n",
    "y = advertising.Sales\n",
    "\n",
    "regr.fit(X,y)\n",
    "```\n",
    "\n",
    "y ya tenemos el objeto ``regr`` que contiene la recta ajustada por mínimos cuadrados."
   ]
  },
  {
   "cell_type": "code",
   "execution_count": null,
   "metadata": {},
   "outputs": [],
   "source": [
    "regr = skl_lm.LinearRegression()\n",
    "\n",
    "X = advertising[['TV', 'Radio', 'Newspaper']]\n",
    "y = advertising.Sales\n",
    "\n",
    "regr.fit(X,y)\n",
    "\n",
    "print(regr.intercept_)  #beta0\n",
    "print(regr.coef_)       #beta1 .. betap"
   ]
  },
  {
   "cell_type": "markdown",
   "metadata": {},
   "source": [
    "#### predecir \n",
    "\n",
    "Ahora que el modelo está ajustado, podemos predecir la cantidad de ventas, conocido el valor de las variables predictoras.\n",
    "\n",
    "```python\n",
    "regr.predict([[inv_TV, inv_Radio, inv_Newspaper]])\n",
    "```"
   ]
  },
  {
   "cell_type": "code",
   "execution_count": null,
   "metadata": {},
   "outputs": [],
   "source": [
    "2.938889369459412 + 0.04576465*200 +  0.18853002*20 -0.00103749*20"
   ]
  },
  {
   "cell_type": "code",
   "execution_count": null,
   "metadata": {},
   "outputs": [],
   "source": [
    "#El orden de (inv_TV, inv_Radio, inv_Newspaper) es importante: \n",
    "#en el mismo orden que al llamar a regr.fit(...)\n",
    "regr.predict([[200,20,20]])"
   ]
  },
  {
   "cell_type": "markdown",
   "metadata": {},
   "source": [
    "También podemos llamar a ``regr.predict()`` con un DataFrame como argumento, por ejemplo para predecir el nivel de ventas para distintas asignaciones alternativas de un presupuesto de 300k para inversión en publicidad.\n",
    "\n",
    "**Atención**: es necesario que las columnas en el DataFrame aparezcan *en el mismo orden* que usamos al entrenar el modelo. Se debe a que ``scikit-learn`` fue concebida pensando en ``numpy``, antes de que ``pandas`` se hiciera tan popular."
   ]
  },
  {
   "cell_type": "code",
   "execution_count": null,
   "metadata": {},
   "outputs": [],
   "source": [
    "#No es necesario que tenga la respuesta\n",
    "advertising_future = pd.DataFrame(\n",
    "    [\n",
    "        [100,30,30],\n",
    "        [100,40,30],\n",
    "        [100,30,40],\n",
    "        [100,30,20]        \n",
    "    ],\n",
    "    columns=['TV', 'Radio', 'Newspaper']\n",
    ")\n",
    "regr.predict(advertising_future)"
   ]
  },
  {
   "cell_type": "markdown",
   "metadata": {},
   "source": [
    "### Statsmodels \n",
    "\n",
    "Vamos a usar también la librería statsmodel, que imita la sintaxis de la regresión lineal en ``R``.\n",
    "\n",
    "La fórmula ``Sales ~ TV + Radio`` significa que busca el modelo de regresión lineal:\n",
    "$$\n",
    "Sales\\approx \\beta_0 + \\beta_1\\times TV + \\beta_2 \\times Radio + \\varepsilon\n",
    "$$\n",
    "\n",
    " - Ajustamos el modelo $Sales\\approx \\beta_0 + \\beta_1\\times TV + \\beta_2 \\times Radio+ \\varepsilon$ usando el DataFrame ``advertising``.\n",
    " \n",
    "```python\n",
    "recta = smf.ols('Sales ~ TV + Radio', advertising).fit()\n",
    "```"
   ]
  },
  {
   "cell_type": "code",
   "execution_count": null,
   "metadata": {},
   "outputs": [],
   "source": [
    "est = smf.ols('Sales ~ TV + Radio', advertising).fit()"
   ]
  },
  {
   "cell_type": "markdown",
   "metadata": {},
   "source": [
    "### Usar el modelo para hacer predicciones\n",
    "\n",
    "Usando **statsmodels**, necesitamos un DataFrame con las columnas predictoras, no es necesario que tenga la respuesta."
   ]
  },
  {
   "cell_type": "code",
   "execution_count": null,
   "metadata": {},
   "outputs": [],
   "source": [
    "advertising_future = pd.DataFrame(\n",
    "    [\n",
    "        [100,30,30],\n",
    "        [100,40,30],\n",
    "        [100,30,40],\n",
    "        [100,30,20]        \n",
    "    ],\n",
    "    columns=['TV', 'Radio', 'Newspaper']\n",
    ")\n",
    "advertising_future"
   ]
  },
  {
   "cell_type": "code",
   "execution_count": null,
   "metadata": {},
   "outputs": [],
   "source": [
    "est.predict(advertising_future)"
   ]
  },
  {
   "cell_type": "code",
   "execution_count": null,
   "metadata": {},
   "outputs": [],
   "source": [
    "advertising_future = pd.DataFrame({\n",
    "        'TV':[100,100,100,100],\n",
    "        'Radio':[30,40,30,30],\n",
    "        'Newspaper':[30,30,40,20]\n",
    "})\n",
    "advertising_future"
   ]
  },
  {
   "cell_type": "code",
   "execution_count": null,
   "metadata": {},
   "outputs": [],
   "source": [
    "est.predict(advertising_future)"
   ]
  },
  {
   "cell_type": "code",
   "execution_count": null,
   "metadata": {},
   "outputs": [],
   "source": [
    "advertising_future = pd.DataFrame(\n",
    "    [\n",
    "        [100,30,30],\n",
    "        [100,40,30],\n",
    "        [100,30,40],\n",
    "        [100,30,20]        \n",
    "    ],\n",
    "    columns=['TV', 'Radio', 'Newspaper']\n",
    ")\n",
    "\n",
    "est.predict(advertising_future)"
   ]
  },
  {
   "cell_type": "code",
   "execution_count": null,
   "metadata": {},
   "outputs": [],
   "source": [
    "df = pd.DataFrame({\n",
    "    'TV': [100, 200, 250, 300],\n",
    "    'Radio': [75, 50, 25, 0],\n",
    "    'Newspaper': [75, 50, 25, 0]\n",
    "})\n",
    "est.predict(df)"
   ]
  },
  {
   "cell_type": "markdown",
   "metadata": {},
   "source": [
    "### Interpretando el modelo ajustado"
   ]
  },
  {
   "cell_type": "code",
   "execution_count": null,
   "metadata": {},
   "outputs": [],
   "source": [
    "est = smf.ols('Sales ~ TV + Radio + Newspaper', advertising).fit()\n",
    "est.summary().tables[1]"
   ]
  },
  {
   "cell_type": "code",
   "execution_count": null,
   "metadata": {},
   "outputs": [],
   "source": [
    "est = smf.ols('Sales ~ TV + Radio + Newspaper', advertising).fit()\n",
    "est.summary()"
   ]
  },
  {
   "cell_type": "markdown",
   "metadata": {},
   "source": [
    "### Intervalo de confianza\n",
    "\n",
    "En la tabla resumen de statsmodel, podemos observar dos columnas ``[0.025 \t0.975]``, que delimitan un **intervalo de confianza al 95%** para cada coeficiente.\n",
    "\n",
    "No vamos a estudiar los intervalos de confianza en detalle, sólo diremos que:\n",
    "\n",
    " - Representan **un intervalo de _\"valores razonables\"_ para el valor de cada coeficiente** $\\beta_0,\\dots \\beta_p$.\n",
    " - **No significa** que _\"la probabilidad de que $\\beta_j$ esté dentro del intervalo es 0.95\"_.\n",
    " - No hay una distribución de probabilidad conjunta para los valores de los coeficientes. La definición, y la lógica detrás de los intervalos de confianza, es distinta."
   ]
  },
  {
   "cell_type": "markdown",
   "metadata": {},
   "source": [
    "### Contrastes de hipótesis\n",
    "\n",
    "No vamos a estudiar los contrastes de hipótesis en detalle, sólo diremos que:\n",
    "\n",
    " - Lanzamos una hipótesis binaria como:\n",
    "     - \"Esta muestra es una extracción aleatoria independiente de una Normal con media 0 y desviación típica 20 cm\".\n",
    "     - \"Estas dos muestras provienen de la misma distribución\".\n",
    "     - \"El coeficiente de X en la regresión $Y\\approx \\beta_0 + \\beta_1 X + \\varepsilon$ es distinto de 0\".\n",
    " - No asignamos una probabilidad a la hipótesis, sino que la respuesta es \"sí (hay evidencia significativa de que la hipótesis es correcta)\" o \"no (no hay evidencia significativa de que la hipótesis es correcta)\".\n",
    " \n",
    "> - Es necesario poner mucha atención en distinguir _\"**no** hay evidencia significativa de que la hipótesis es correcta\"_ de _\"hay evidencia significativa de que la hipótesis **no** es correcta\"_.\n",
    "\n",
    " - Sin embargo, la confianza en la respuesta se mide con un **p-valor**, que **no es una probabilidad**."
   ]
  },
  {
   "cell_type": "markdown",
   "metadata": {},
   "source": [
    "### Contraste de hipótesis: \"¿Podria este coeficiente ser cero?\"\n",
    "\n",
    "Observamos ahora las columnas ``std err \tt \tP>|t|``:\n",
    " - **std err** es una estimación del error estándar cometido en la estimación de cada coeficiente\n",
    " - **t**: el [estadístico t](https://en.wikipedia.org/wiki/T-statistic) es el ratio entre la estimación del coeficiente y el error estándar.\n",
    " - **P>|t|**: el **p-valor** asociado al contraste de hipótesis \"¿Es posible que el coeficiente en realidad sea 0?\".\n",
    "\n",
    "   - La **hipótesis nula**: El valor del coeficiente $\\beta_j$ es 0.\n",
    "   - La **hipótesis alternativa**: El valor del coeficiente $\\beta_j$ es **distinto de** 0.\n",
    "\n",
    "> - Un valor bajo del p-valor indica que hay evidencia de que el coeficiente es distinto de cero.\n",
    "> - Un valor alto del p-valor indica que no hay evidencia de que el coeficiente sea distinto de cero."
   ]
  },
  {
   "cell_type": "markdown",
   "metadata": {},
   "source": [
    "Si ajustamos el modelo lineal que depende sólo de Newspaper\n",
    "\n",
    "$$\n",
    "Sales\\approx \\beta_0 + \\beta_3\\times newspaper + \\varepsilon,\n",
    "$$\n",
    "\n",
    "nos sale que la pendiente de la recta es positiva con un p-valor del 0.1%, pero si ajustamos el modelo lineal completo:\n",
    "\n",
    "$$\n",
    "Sales\\approx \\beta_0 + \\beta_1\\times TV  + \\beta_2\\times radio  + \\beta_3\\times newspaper + \\varepsilon\n",
    "$$\n",
    "\n",
    "la pendiente $\\beta_3$ es muy próxima a 0 (el p-valor es muy alto, el intervalo de confianza contiene a 0...)"
   ]
  },
  {
   "cell_type": "code",
   "execution_count": null,
   "metadata": {},
   "outputs": [],
   "source": [
    "est = smf.ols('Sales ~ Radio', advertising).fit()\n",
    "est.summary().tables[1]"
   ]
  },
  {
   "cell_type": "code",
   "execution_count": null,
   "metadata": {},
   "outputs": [],
   "source": [
    "est = smf.ols('Sales ~ Newspaper', advertising).fit()\n",
    "est.summary().tables[1]"
   ]
  },
  {
   "cell_type": "markdown",
   "metadata": {},
   "source": [
    "En la tabla de resumen para regresión múltiple, aparece una fila para cada coeficiente del modelo lineal."
   ]
  },
  {
   "cell_type": "code",
   "execution_count": null,
   "metadata": {},
   "outputs": [],
   "source": [
    "est = smf.ols('Sales ~ TV + Radio + Newspaper', advertising).fit()\n",
    "est.summary().tables[1]"
   ]
  },
  {
   "cell_type": "markdown",
   "metadata": {},
   "source": [
    "¿Qué sentido tiene que el coeficiente de **newspaper** sea positivo en la regresión simple y cercano a 0 en la regresión múltiple? Se puede interpretar así:\n",
    "\n",
    "> En aquellos países en los que se invierte más en anuncios en periódicos, también se suele invertir en TV y radio (lo comprobamos al observar que la correlación entre **newspaper** y **Radio** es del 35%). El modelo lineal múltiple indica que los anuncios en TV y radio son eficaces (aumentan las ventas), mientras que los anuncios en periódicos no. Sin embargo, si hacemos la regresión simple, resulta que los países en los que más se invierte más en anuncios en periódicos tienen más ventas que aquellos en los que se invierte menos, pero es debido a que también se invierte más en Radio, y no es causa directa de los anuncios en periódicos.\n",
    "\n",
    "Un ejemplo clásico:\n",
    "> Ajustamos un modelo lineal a $Y$ (ataques de tiburones) contra $X_1$ (ventas de helados en la playa) y encontramos una pendiente (correlación) positiva: a mayor ventas de helados, más ataques de tiburones. Obviamente no hay relación de causalidad entre ambas variables, pero en este caso podemos encontrar una causa que explica esta correlación: cuanta más gente en la playa ($X_2$), más ventas de helados y más ataques a tiburones. Una regresión múltiple $Y\\sim X_1,X_2$, no muestra relación positiva entre $X_1$ e $Y$, y sí lo hace entre $X_2$ e $Y$.\n",
    "\n",
    "Para más información, puedes leer sobre [factores de confusión](https://en.wikipedia.org/wiki/Confounding)."
   ]
  },
  {
   "cell_type": "code",
   "execution_count": null,
   "metadata": {},
   "outputs": [],
   "source": [
    "advertising.corr()"
   ]
  },
  {
   "cell_type": "markdown",
   "metadata": {},
   "source": [
    "## ¿Cómo decidimos si un modelo es bueno?\n",
    "\n",
    "Supongamos que el mejor modelo lineal que hemos encontrado es \n",
    "$$\n",
    "y=f(\\mathbf{x})+\\epsilon=\\beta_0 + x_1\\beta_1 +\\dots +x_p\\beta_p+\\epsilon,\\qquad \\mathbf{x}=(x_1,\\dots,x_p).\n",
    "$$\n",
    "\n",
    " - **TSS**: Total sum of squares: $\\Sigma_i (y_i-\\bar{y})^2$ (sumamos el cuadrado de la diferencia entre el dato $y_i$ y la media $\\bar{y}$)\n",
    " - **RSS**: Residual sum of squares:  $\\Sigma_i (y_i-f(\\mathbf{x}_i))^2$ (sumamos el cuadrado de la diferencia entre el dato $y_i$ y la predicción $f(\\mathbf{x}_i)$ usando nuestro modelo)\n",
    " - **RSS/TSS**: cociente entre la \"varianza residual\" y la \"varianza total\"\n",
    " - **R-cuadrado**: \"porcentaje de la varianza que el modelo explica\". \n",
    "$$\n",
    "R^2 = 1 - \\frac{RSS}{TSS}\n",
    "$$\n",
    "\n",
    "```python\n",
    "#Calcula R^2 con scikit-learn\n",
    "regr.score(X,y)\n",
    "```\n",
    "\n",
    "```python\n",
    "#Devuelve R^2 para el modelo ajustado con statsmodels\n",
    "est.rsquared\n",
    "```"
   ]
  },
  {
   "cell_type": "code",
   "execution_count": null,
   "metadata": {},
   "outputs": [],
   "source": [
    "#Calcula R^2 con scikit-learn\n",
    "regr.score(X,y)"
   ]
  },
  {
   "cell_type": "code",
   "execution_count": null,
   "metadata": {},
   "outputs": [],
   "source": [
    "#Devuelve R^2 para el modelo ajustado con statsmodels\n",
    "est.rsquared"
   ]
  },
  {
   "cell_type": "markdown",
   "metadata": {},
   "source": [
    "El estadístico $R^2$ es igual al cuadrado de la correlación entre la respuesta y el valor del modelo lineal ajustado.\n",
    "$$\n",
    "R^2 = Cor(Y,f(X))^2\n",
    "$$\n",
    "Sin embargo, es necesario ajustar el modelo para calcular esa correlación, no es una correlación entre las variables originales, como ocurría en el caso de la regresión lineal simple."
   ]
  },
  {
   "cell_type": "markdown",
   "metadata": {},
   "source": [
    "## Comparando modelos\n",
    "\n",
    "El estadístico $R^2$ siempre aumenta al añadir variables, pero ¿añadir más y más variables da lugar siempre a un modelo mejor?\n",
    "\n",
    "A menudo, *la ganancia marginal por incorporar otra variable no compensa las desventajas*. Un modelo con más variables, o con términos no lineales:\n",
    "\n",
    " 1. es más complejo, y nos impide usar el modelo de ciertas formas.\n",
    " 2. **generaliza** peor: aunque ajuste muy bien a los datos que tenemos, ajusta peor a datos nuevos.\n",
    "\n",
    "La semana que viene hablaremos despacio sobre los temas de **sobreajuste**, **validación** y **sesgo vs varianza**.\n",
    "Por el momento, sólo mencionaremos que hay medidores de bondad de ajuste alternativos al **R-squared** que intentan buscar un equilibrio entre un buen ajuste y un modelo sencillo con pocas variables predictoras:\n",
    "\n",
    " - **Adj. R-squared** aumenta cuando decrece el error, pero disminuye cuando incluimos más variables predictoras. De hecho, la fórmula es sencilla:\n",
    " \n",
    "$$\n",
    "{\\bar {R}}^{2}={1-(1-R^{2}){n-1 \\over n-p-1}}\n",
    "$$\n",
    "\n",
    " - **AIC** y **BIC** disminuyen cuando decrece el error, pero aumentan cuando incluimos más variables predictoras. Se definen de forma similar, pero el BIC penaliza más duramente los modelos con más parámetros.\n",
    " \n",
    "> _Tanto el AIC como el BIC solo sirven para comparar modelos. No importa si son grandes o pequeños._\n",
    "> \n",
    "> Si el AIC para el modelo ``A`` vale a y el AIC para el modelo ``B`` vale b, entonces es $\\exp\\left(\\frac{a-b}{2}\\right)$ veces más probable que el modelo A minimize la pérdida de información que el modelo B (si son igual de probables a priori). Este ratio es exactamente el mismo si $a=2, b=1$ o si $a=3001, b=3000$."
   ]
  },
  {
   "cell_type": "markdown",
   "metadata": {},
   "source": [
    "### Comparando modelos en el ejemplo de prensa\n",
    "\n",
    "Tras observar que el coeficiente de **newspaper** tiene un p-valor alto (o que 0 está en un intervalo de confianza), probamos a usar el modelo que sólo usa TV y Radio.\n",
    "\n",
    "Comparamos los resultados de ambos modelos."
   ]
  },
  {
   "cell_type": "code",
   "execution_count": null,
   "metadata": {},
   "outputs": [],
   "source": [
    "est = smf.ols('Sales ~ TV + Radio + Newspaper', advertising).fit()\n",
    "est.summary().tables[0]"
   ]
  },
  {
   "cell_type": "code",
   "execution_count": null,
   "metadata": {},
   "outputs": [],
   "source": [
    "est = smf.ols('Sales ~ TV + Radio', advertising).fit()\n",
    "est.summary().tables[0]"
   ]
  },
  {
   "cell_type": "markdown",
   "metadata": {},
   "source": [
    "Vemos que sin la variable **newspaper** obtenemos casi el mismo valor de R-squared (explicamos el mismo porcentaje de la varianza). Los indicadores AIC y BIC disminuyen ligeramente, confirmando que es buen movimiento. El _\"adjusted $R^2$\"_ es casi igual en ambos casos: es un criterio que no es muy crítico con el aumento del número de variables predictoras. De los tres criterios, el BIC es el que más penaliza el aumento de variables redundantes."
   ]
  },
  {
   "cell_type": "markdown",
   "metadata": {},
   "source": [
    "## Variables categóricas\n",
    "\n",
    "> ¿Podemos incorporar variables cualitativas a una regresión?\n",
    "\n",
    "En el dataset siguiente, se trata de predecir el balance de una tarjeta de crédito en función de varias variables:"
   ]
  },
  {
   "cell_type": "code",
   "execution_count": null,
   "metadata": {},
   "outputs": [],
   "source": [
    "credit = pd.read_csv('credit.csv')\n",
    "credit.head()"
   ]
  },
  {
   "cell_type": "markdown",
   "metadata": {},
   "source": [
    "Por ejemplo, podemos intentar decidir si el género es una buena variable predictora, ajustando un modelo:\n",
    "\n",
    "> Balance ~ Gender\n",
    "\n",
    "que es lo mismo que ajustar\n",
    "\n",
    "$$\n",
    "\\text{Balance} = \\beta_0 + \\beta_1 x_{\\text{Gender}}  + \\varepsilon\n",
    "$$\n",
    "\n",
    "donde $x_{\\text{Gender}}$ vale 1 si es \"Male\" y 0 si es \"Female\"."
   ]
  },
  {
   "cell_type": "code",
   "execution_count": null,
   "metadata": {},
   "outputs": [],
   "source": [
    "est = smf.ols('Balance ~ Gender', credit).fit()\n",
    "print(est.rsquared)\n",
    "est.summary().tables[1]"
   ]
  },
  {
   "cell_type": "markdown",
   "metadata": {},
   "source": [
    "La conclusión parece ser que no hay evidencia a favor de una relación entre Género y balance."
   ]
  },
  {
   "cell_type": "markdown",
   "metadata": {},
   "source": [
    "También podemos incorporar como variable predictora una variable categórica que toma más de dos valores, como por ejemplo ``Ethnicity``:\n",
    "\n",
    "> Balance ~ Ethnicity\n",
    "\n",
    "pero cuidado, **no se trata de codificar** cada valor de la variable categórica con una valor entero distinto:\n",
    "\n",
    "- African American => 1\n",
    "- Caucasian => 2\n",
    "- Asian => 3\n",
    "\n",
    "y luego ajustar un modelo\n",
    "\n",
    "$$\n",
    "\\text{Balance} = \\beta_0 + \\beta_1 x_{\\text{Ethnicity}} + \\varepsilon\n",
    "$$\n",
    "\n",
    "porque estaríamos imponiendo que el efecto de \"Asian\" es el triple que el de \"African American\", en vez de dejar que lo elija el modelo.\n",
    "Lo que hacemos es usar varias variables binarias:\n",
    "\n",
    " - $x_{\\text{Caucasian}}$: vale 1 si es \"Caucasian\", y 0 en cualquiera de los otros dos casos.\n",
    " - $x_{\\text{Asian}}$: vale 1 si es \"Asian\", y 0 en cualquiera de los otros dos casos.\n",
    " \n",
    "El modelo es:\n",
    "\n",
    "$$\n",
    "\\text{Balance} = \\beta_0 + \\beta_1 x_{\\text{Asian}} + \\beta_2 x_{\\text{Caucasian}} + \\varepsilon\n",
    "$$\n",
    " \n",
    "**Pregunta**: ¿por qué no necesitamos otra variable $x_{\\text{African American}}$?"
   ]
  },
  {
   "cell_type": "code",
   "execution_count": null,
   "metadata": {},
   "outputs": [],
   "source": [
    "est = smf.ols('Balance ~ Ethnicity', credit).fit()\n",
    "print(est.rsquared)\n",
    "est.summary().tables[1]"
   ]
  },
  {
   "cell_type": "code",
   "execution_count": null,
   "metadata": {},
   "outputs": [],
   "source": [
    "est = smf.ols('Balance ~ Income + Ethnicity', credit).fit()\n",
    "print(est.rsquared)\n",
    "est.summary().tables[1]"
   ]
  },
  {
   "cell_type": "markdown",
   "metadata": {},
   "source": [
    "### Ejercicio 1\n",
    "\n",
    "Trabajaremos con la tabla `tips.csv`:\n",
    "- Ajusta un modelo lineal a los datos para predecir la propina (tip) en función del resto de columnas: ¿obtienes buenos resultados?\n",
    "- Encuentra el modelo de regresión lineal múltiple que tenga mejor BIC.\n",
    "- ¿Crees que el sexo de la persona que deja la propina es indicativa de si será más o menos generosa?"
   ]
  },
  {
   "cell_type": "markdown",
   "metadata": {},
   "source": [
    "Comenzamos incluyendo todas las variables"
   ]
  },
  {
   "cell_type": "code",
   "execution_count": null,
   "metadata": {},
   "outputs": [],
   "source": [
    "tips = pd.read_csv('tips.csv')\n",
    "tips.describe(include='all')"
   ]
  },
  {
   "cell_type": "code",
   "execution_count": null,
   "metadata": {},
   "outputs": [],
   "source": []
  },
  {
   "cell_type": "code",
   "execution_count": null,
   "metadata": {},
   "outputs": [],
   "source": []
  },
  {
   "cell_type": "markdown",
   "metadata": {},
   "source": [
    "### Ejercicio 2\n",
    "\n",
    " - Carga el conjunto ``seaice.csv``, sobre la extensión del hielo polar.\n",
    " - Selecciona sólo los datos de extensión del hielo en el hemisferio norte.\n",
    " - Intenta explicar los datos de extensión del hielo polar en función del año.\n",
    " - Intenta explicar los datos de extensión del hielo polar en función del año y del mes (pero *atención*: ¿cómo tiene sentido incorporar el mes?). ¿El modelo es mejor que el que usa sólo los datos de año?\n",
    " - Usa el modelo para extrapolar la extensión del hielo en el Oceáno Ártico en Julio de 2030, 2040 y 2050.\n",
    " "
   ]
  },
  {
   "cell_type": "markdown",
   "metadata": {},
   "source": [
    "\n",
    "**Nota**: puedes usar `... + C(nombre_variable) + ...` para convertir una variable entera en categórica. Es decir, si ajustamos un modelo\n",
    "\n",
    ">    Extensión del hielo ~ Mes\n",
    "\n",
    "Estamos imponiendo que el efecto del mes de Diciembre es 12 veces el efecto del mes de Enero.\n",
    "\n",
    "Sin embargo, si usamos\n",
    "\n",
    ">    Extensión del hielo ~ C(Mes)\n",
    "\n",
    "Estamos ajustando un modelo\n",
    "\n",
    "$$\n",
    "    E = \\beta_0 + \\beta_1 x_{ENERO} + \\dots + \\beta_{12} x_{DICIEMBRE}  + \\varepsilon\n",
    "$$\n",
    "\n",
    "donde la contribución del mes de Diciembre es independiente de la contribución del efecto del mes de Enero.\n",
    "Observa el ejemplo debajo:"
   ]
  },
  {
   "cell_type": "code",
   "execution_count": null,
   "metadata": {},
   "outputs": [],
   "source": [
    "ice = pd.read_csv('seaice.csv')\n",
    "ice.info()"
   ]
  },
  {
   "cell_type": "code",
   "execution_count": null,
   "metadata": {},
   "outputs": [],
   "source": [
    "icen = ice[ice.hemisphere=='north']\n",
    "est = smf.ols('Extent ~ Month', icen).fit()\n",
    "est.summary()"
   ]
  },
  {
   "cell_type": "code",
   "execution_count": null,
   "metadata": {},
   "outputs": [],
   "source": [
    "icen = ice[ice.hemisphere=='north']\n",
    "est = smf.ols('Extent ~ C(Month)', icen).fit()\n",
    "est.summary()"
   ]
  },
  {
   "cell_type": "code",
   "execution_count": null,
   "metadata": {},
   "outputs": [],
   "source": []
  },
  {
   "cell_type": "code",
   "execution_count": null,
   "metadata": {},
   "outputs": [],
   "source": []
  },
  {
   "cell_type": "code",
   "execution_count": null,
   "metadata": {},
   "outputs": [],
   "source": []
  },
  {
   "cell_type": "markdown",
   "metadata": {},
   "source": [
    "### Ejercicio 3\n",
    "\n",
    " - Carga el conjunto ``simar.csv``, sobre los datos de viento y oleaje de una boya del puerto de Cádiz.\n",
    " - Intenta explicar los datos de altura significativa de ola (Hm0) en función del mes. (pero *atención*: ¿cómo tiene sentido incorporar el mes?).\n",
    " - Intenta explicar los datos de altura significativa de ola (Hm0) en función del mes y de la hora.\n",
    " - Intenta explicar los datos de altura significativa de ola (Hm0) en función del mes, la hora y el año.\n",
    " - ¿Has conseguido un buen modelo?"
   ]
  },
  {
   "cell_type": "code",
   "execution_count": null,
   "metadata": {
    "scrolled": true
   },
   "outputs": [],
   "source": [
    "simar=pd.read_csv('SIMAR_fake.csv')\n",
    "simar.head()"
   ]
  },
  {
   "cell_type": "code",
   "execution_count": null,
   "metadata": {},
   "outputs": [],
   "source": []
  },
  {
   "cell_type": "code",
   "execution_count": null,
   "metadata": {},
   "outputs": [],
   "source": []
  },
  {
   "cell_type": "code",
   "execution_count": null,
   "metadata": {},
   "outputs": [],
   "source": []
  },
  {
   "cell_type": "code",
   "execution_count": null,
   "metadata": {},
   "outputs": [],
   "source": []
  }
 ],
 "metadata": {
  "kernelspec": {
   "display_name": "Python 3",
   "language": "python",
   "name": "python3"
  },
  "language_info": {
   "codemirror_mode": {
    "name": "ipython",
    "version": 3
   },
   "file_extension": ".py",
   "mimetype": "text/x-python",
   "name": "python",
   "nbconvert_exporter": "python",
   "pygments_lexer": "ipython3",
   "version": "3.8.10"
  }
 },
 "nbformat": 4,
 "nbformat_minor": 4
}
