{
 "cells": [
  {
   "cell_type": "markdown",
   "id": "a2cd7229",
   "metadata": {},
   "source": [
    "# NumPy\n",
    "NumPy es una biblioteca para crear vectores y matrices grandes multidimensionales, junto con una gran colección de funciones matemáticas de alto nivel para operar con ellas."
   ]
  },
  {
   "cell_type": "code",
   "execution_count": 5,
   "id": "b748f68f",
   "metadata": {},
   "outputs": [
    {
     "name": "stdout",
     "output_type": "stream",
     "text": [
      "1.21.1\n",
      "<class 'numpy.ndarray'>\n",
      "[1 2 3 4 5]\n"
     ]
    }
   ],
   "source": [
    "import numpy as np\n",
    "print(np.__version__)\n",
    "X = np.array([1, 2, 3, 4, 5])\n",
    "print(type(X))\n",
    "print(X)"
   ]
  },
  {
   "cell_type": "code",
   "execution_count": 13,
   "id": "064ba239",
   "metadata": {},
   "outputs": [
    {
     "name": "stdout",
     "output_type": "stream",
     "text": [
      "[[11 12]\n",
      " [21 22]]\n",
      "A[0][0] = 11\n",
      "A[0][1] = 12\n"
     ]
    }
   ],
   "source": [
    "A=np.array([[11,12],[21,22]])\n",
    "print(A)\n",
    "print(\"A[0][0] = \"+str(A[0][0]))\n",
    "print(\"A[0][1] = \"+str(A[0][1]))"
   ]
  },
  {
   "cell_type": "code",
   "execution_count": null,
   "id": "6689ad70",
   "metadata": {},
   "outputs": [],
   "source": []
  }
 ],
 "metadata": {
  "kernelspec": {
   "display_name": "Python 3",
   "language": "python",
   "name": "python3"
  },
  "language_info": {
   "codemirror_mode": {
    "name": "ipython",
    "version": 3
   },
   "file_extension": ".py",
   "mimetype": "text/x-python",
   "name": "python",
   "nbconvert_exporter": "python",
   "pygments_lexer": "ipython3",
   "version": "3.8.10"
  }
 },
 "nbformat": 4,
 "nbformat_minor": 5
}
