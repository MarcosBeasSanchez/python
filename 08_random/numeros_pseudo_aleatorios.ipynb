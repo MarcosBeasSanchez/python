{
 "cells": [
  {
   "cell_type": "markdown",
   "id": "0c527d16",
   "metadata": {},
   "source": [
    "__Cuaderno de trabajo de:__ Nombre Apellido"
   ]
  },
  {
   "cell_type": "code",
   "execution_count": 1,
   "id": "ec2ad395",
   "metadata": {},
   "outputs": [],
   "source": [
    "import random\n",
    "import matplotlib.pyplot as plt\n",
    "import scipy.stats as st\n",
    "import numpy as np"
   ]
  },
  {
   "cell_type": "markdown",
   "id": "be1ce7ed",
   "metadata": {},
   "source": [
    "### Números pseudo-aleatorios\n",
    "\n",
    "Cualquier lenguaje de programación tiene una función random, que cuando la llamamos nos devuelve un número pseudo-aleatorio entre 0 y 1. Todos los números entre 0 y 1 son *\"igualmente probables\""
   ]
  },
  {
   "cell_type": "code",
   "execution_count": 2,
   "id": "f4ba8bd3",
   "metadata": {},
   "outputs": [],
   "source": [
    "random.random?"
   ]
  },
  {
   "cell_type": "code",
   "execution_count": 3,
   "id": "7dd8388c",
   "metadata": {},
   "outputs": [
    {
     "data": {
      "text/plain": [
       "0.0342915628388617"
      ]
     },
     "execution_count": 3,
     "metadata": {},
     "output_type": "execute_result"
    }
   ],
   "source": [
    "#Cada vez que ejecutamos este código obtenemos un número distinto:\n",
    "random.random()"
   ]
  },
  {
   "cell_type": "code",
   "execution_count": 4,
   "id": "b855523f",
   "metadata": {},
   "outputs": [
    {
     "name": "stdout",
     "output_type": "stream",
     "text": [
      "0.6818834580393809\n",
      "0.8753849808776709\n",
      "0.8857389958656752\n",
      "0.39866179572590277\n",
      "0.7573798547949077\n",
      "0.5456314238403107\n",
      "0.8766907304213315\n",
      "0.3682697787035417\n",
      "0.5468410827952913\n",
      "0.76472843877865\n"
     ]
    }
   ],
   "source": [
    "#Generamos 10 números pseudo-aleatorios y los imprimimos\n",
    "for i in range(10):\n",
    "    print(random.random())"
   ]
  },
  {
   "cell_type": "markdown",
   "id": "9239903d",
   "metadata": {},
   "source": [
    "Además, python nos ofrece otras funciones prácticas:\n",
    "\n",
    " - ``random.randint(a,b)`` devuelve un número entero entre a y b (inclusive). Todos los números entre a y b son *\"igualmente probables\"*.\n",
    " - ``random.choice(lista)`` devuelve un elemento de ``lista`` (que debe ser una lista, cadena de caracteres, conjunto...). Todos los elementos son *\"igualmente probables\"*."
   ]
  },
  {
   "cell_type": "code",
   "execution_count": 5,
   "id": "b9796bad",
   "metadata": {},
   "outputs": [
    {
     "name": "stdout",
     "output_type": "stream",
     "text": [
      "17\n",
      "13\n",
      "12\n",
      "13\n",
      "10\n",
      "15\n",
      "15\n",
      "20\n",
      "11\n",
      "14\n"
     ]
    }
   ],
   "source": [
    "for i in range(10):\n",
    "    print (random.randint(10,20))"
   ]
  },
  {
   "cell_type": "code",
   "execution_count": 6,
   "id": "b1a28441",
   "metadata": {},
   "outputs": [
    {
     "name": "stdout",
     "output_type": "stream",
     "text": [
      "E\n",
      "U\n",
      "O\n",
      "A\n",
      "E\n",
      "I\n",
      "O\n",
      "O\n",
      "U\n",
      "E\n"
     ]
    }
   ],
   "source": [
    "for i in range(10):\n",
    "    print(random.choice('AEIOU'))"
   ]
  },
  {
   "cell_type": "markdown",
   "id": "0c3cdc1e",
   "metadata": {},
   "source": [
    "### Semilla aleatoria\n",
    "\n",
    "Estos números parecen aleatorios, pero **el ordenador los obtiene aplicando reglas deterministas**. Sólo parecen aleatorios, pero *la cpu no lanza dados cuando llamamos a random*.\n",
    "\n",
    "Esto no es un inconveniente en la práctica, porque son casi imposibles de distinguir de números auténticamente aleatorios.\n",
    "De hecho, es una virtud, porque si fijamos la **semilla aleatoria**, podemos obtener exactmente los mismos números, aunque hagamos el cálculo en máquinas distintas varios años después."
   ]
  },
  {
   "cell_type": "code",
   "execution_count": 7,
   "id": "b1690406",
   "metadata": {},
   "outputs": [
    {
     "name": "stdout",
     "output_type": "stream",
     "text": [
      "0.13436424411240122\n",
      "0.8474337369372327\n",
      "0.763774618976614\n",
      "0.2550690257394217\n",
      "0.49543508709194095\n",
      "0.4494910647887381\n",
      "0.651592972722763\n",
      "0.7887233511355132\n",
      "0.0938595867742349\n",
      "0.02834747652200631\n",
      "16\n",
      "16\n",
      "19\n",
      "10\n",
      "17\n",
      "14\n",
      "13\n",
      "19\n",
      "11\n",
      "15\n",
      "A\n",
      "A\n",
      "A\n",
      "U\n",
      "A\n",
      "O\n",
      "E\n",
      "O\n",
      "A\n",
      "U\n",
      "adiós\n",
      "ahora vengo\n",
      "ahora vengo\n",
      "adiós\n",
      "¿Qué tal?\n",
      "adiós\n",
      "adiós\n",
      "ahora vengo\n",
      "¿Qué tal?\n",
      "hola\n"
     ]
    }
   ],
   "source": [
    "#Si cambias la semilla, las elecciones cambian, pero con la misma semilla\n",
    "#obtenemos los mismos resultados\n",
    "random.seed(1)\n",
    "for i in range(10):\n",
    "    print (random.random())\n",
    "for i in range(10):\n",
    "    print (random.randint(10,20))\n",
    "for i in range(10):\n",
    "    print(random.choice('AEIOU'))\n",
    "for i in range(10):\n",
    "    print(random.choice([\"hola\",\"adiós\",\"¿Qué tal?\", \"ahora vengo\"]))"
   ]
  },
  {
   "cell_type": "markdown",
   "id": "8fe7c971",
   "metadata": {},
   "source": [
    "### Distribución de Bernoulli\n",
    "\n",
    "Un experimento aleatorio *sigue una distribución de Bernoulli* si hay dos posibles resultados:\n",
    "\n",
    "  - 0, con probabilidad 1-p\n",
    "  - 1, con probabilidad p\n",
    "\n",
    "Cualquier experimento aleatorio con dos resultados se puede representar mediante una distribución de Bernouilli asignando a uno de los dos posibles resultados el valor 0 y al otro, el valor 1:\n",
    "\n",
    "  - Hacemos una salida con el barco, anotamos \"1\" si vemos algún cetáceo, \"0\" en otro caso. Si la probabilidad de avistamiento es del 5%, es una Bernoulli con p=0,05.\n",
    "  - En cada día de operación, anotamos \"**1**\" si el sistema de comunicación *falla*, \"0\" si funciona. Si la probabilidad de fallo es del 10%, es una Bernoulli con p=0,1.\n",
    "  - En cada día de operación, anotamos \"**0**\" si el sistema de comunicación *falla*, \"1\" si funciona. Si la probabilidad de fallo es del 10%, es una Bernoulli con p=0,9."
   ]
  },
  {
   "cell_type": "code",
   "execution_count": 8,
   "id": "defccff8",
   "metadata": {},
   "outputs": [],
   "source": [
    "#La distribución depende de un parametro\n",
    "p0 = 0.25\n",
    "#El objeto Ber contiene los metodos asociados a una \n",
    "#distribucion concreta de la familia Bernoulli\n",
    "Ber = st.bernoulli(p=p0)"
   ]
  },
  {
   "cell_type": "markdown",
   "id": "61063bf5",
   "metadata": {},
   "source": [
    "La función de masa de una distribución de probabilidad indica la probabilidad de obtener cada posible resultado.\n",
    "\n",
    "Ber.pmf(0) es la probabilidad de obtener 0 y Ber.pmf(1) es la probabilidad de obtener 1.\n"
   ]
  },
  {
   "cell_type": "code",
   "execution_count": 9,
   "id": "f1f0f204",
   "metadata": {},
   "outputs": [
    {
     "name": "stdout",
     "output_type": "stream",
     "text": [
      "0.75 0.25\n"
     ]
    }
   ],
   "source": [
    "#Usando Ber.pmf, podemos ver cuál es la probabilidad de \n",
    "#obtener 0, o de obtener 1\n",
    "print(Ber.pmf(0), Ber.pmf(1))"
   ]
  },
  {
   "cell_type": "markdown",
   "id": "0c462f93",
   "metadata": {},
   "source": [
    "Una extracción aleatoria de la distribución nos devuelve un número aleatorio en el espacio muestral de la distribución, pero de tal forma que cuando hacemos muchas extracciones cada resultado aparece una proporción de veces parecida a la probabilidad que le asigna la funcion de masa.\n",
    "\n",
    "Ber.rvs(N) devuelve un array con N extracciones aleatorias independientes de la distribución Ber (una muestra).\n"
   ]
  },
  {
   "cell_type": "code",
   "execution_count": 10,
   "id": "cffe207e",
   "metadata": {},
   "outputs": [
    {
     "data": {
      "text/plain": [
       "array([1, 0, 0, 0, 1, 0, 0, 0, 0, 1, 0, 1, 0, 1, 1, 0, 0, 0, 0, 0])"
      ]
     },
     "execution_count": 10,
     "metadata": {},
     "output_type": "execute_result"
    }
   ],
   "source": [
    "#Cada vez que ejecutas esta celda, el resultado varía\n",
    "muestra = Ber.rvs(20)\n",
    "muestra"
   ]
  },
  {
   "cell_type": "code",
   "execution_count": 16,
   "id": "321c4301",
   "metadata": {},
   "outputs": [
    {
     "data": {
      "text/plain": [
       "array([0, 0, 0, 0, 0, 1, 1, 0, 1, 0, 0, 0, 1, 1, 0, 0, 0, 0, 1, 0])"
      ]
     },
     "execution_count": 16,
     "metadata": {},
     "output_type": "execute_result"
    }
   ],
   "source": [
    "# ATENCION: no hay que fijar la semilla aleatoria con random.seed, \n",
    "#sino con np.random.seed(semilla)\n",
    "#random.seed(12)\n",
    "np.random.seed(12)\n",
    "muestra = Ber.rvs(20)\n",
    "muestra"
   ]
  },
  {
   "cell_type": "code",
   "execution_count": 19,
   "id": "359f23fa",
   "metadata": {},
   "outputs": [
    {
     "data": {
      "image/png": "[encoded data removed]",
      "text/plain": [
       "<Figure size 432x288 with 1 Axes>"
      ]
     },
     "metadata": {
      "needs_background": "light"
     },
     "output_type": "display_data"
    }
   ],
   "source": [
    "#Usando Ber.pmf, podemos ver cuál es la probabilidad de \n",
    "#obtener 0, o de obtener 1\n",
    "plt.bar([0,1],[Ber.pmf(0), Ber.pmf(1)], fill=False)\n",
    "plt.show()"
   ]
  },
  {
   "cell_type": "code",
   "execution_count": 20,
   "id": "c41a2d7b",
   "metadata": {},
   "outputs": [
    {
     "data": {
      "image/png": "[encoded data removed]",
      "text/plain": [
       "<Figure size 432x288 with 1 Axes>"
      ]
     },
     "metadata": {
      "needs_background": "light"
     },
     "output_type": "display_data"
    }
   ],
   "source": [
    "#Ejecutalo varias veces y veras como la forma cambia\n",
    "#A veces se parece más, otras veces menos\n",
    "muestra = Ber.rvs(10)\n",
    "plt.hist(muestra, bins=[-0.5,0.5,1.5], density=1,alpha=0.8)\n",
    "plt.bar([0,1],[Ber.pmf(0), Ber.pmf(1)],fill=False)\n",
    "plt.show()"
   ]
  },
  {
   "cell_type": "markdown",
   "id": "de670696",
   "metadata": {},
   "source": [
    "Pero si aumentamos el tamaño de la muestra aleatoria se parece mucho mas a la función de masa.\n"
   ]
  },
  {
   "cell_type": "code",
   "execution_count": 21,
   "id": "130c7082",
   "metadata": {},
   "outputs": [
    {
     "data": {
      "image/png": "[encoded data removed]",
      "text/plain": [
       "<Figure size 432x288 with 1 Axes>"
      ]
     },
     "metadata": {
      "needs_background": "light"
     },
     "output_type": "display_data"
    }
   ],
   "source": [
    "#Pero si aumentamos el tamanyo se parece mucho mas\n",
    "muestra = Ber.rvs(1000)\n",
    "plt.hist(muestra, bins=[-0.5,0.5,1.5], density=1,alpha=0.8)\n",
    "plt.bar([0,1],[Ber.pmf(0), Ber.pmf(1)],fill=False)\n",
    "plt.show()"
   ]
  },
  {
   "cell_type": "code",
   "execution_count": null,
   "id": "ad93071f",
   "metadata": {},
   "outputs": [],
   "source": []
  }
 ],
 "metadata": {
  "kernelspec": {
   "display_name": "Python 3",
   "language": "python",
   "name": "python3"
  },
  "language_info": {
   "codemirror_mode": {
    "name": "ipython",
    "version": 3
   },
   "file_extension": ".py",
   "mimetype": "text/x-python",
   "name": "python",
   "nbconvert_exporter": "python",
   "pygments_lexer": "ipython3",
   "version": "3.8.10"
  }
 },
 "nbformat": 4,
 "nbformat_minor": 5
}
