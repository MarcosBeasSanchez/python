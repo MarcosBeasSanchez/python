{
 "cells": [
  {
   "cell_type": "markdown",
   "id": "0c527d16",
   "metadata": {},
   "source": [
    "__Cuaderno de trabajo de:__ Nombre Apellido"
   ]
  },
  {
   "cell_type": "code",
   "execution_count": 1,
   "id": "ec2ad395",
   "metadata": {},
   "outputs": [],
   "source": [
    "import random\n",
    "import matplotlib.pyplot as plt\n",
    "import numpy as np\n",
    "import math "
   ]
  },
  {
   "cell_type": "markdown",
   "id": "be1ce7ed",
   "metadata": {},
   "source": [
    "### Números pseudo-aleatorios\n",
    "\n",
    "Cualquier lenguaje de programación tiene una función random, que cuando la llamamos nos devuelve un número pseudo-aleatorio entre 0 y 1. Todos los números entre 0 y 1 son *\"igualmente probables\""
   ]
  },
  {
   "cell_type": "code",
   "execution_count": 2,
   "id": "f4ba8bd3",
   "metadata": {},
   "outputs": [],
   "source": [
    "random.random?"
   ]
  },
  {
   "cell_type": "code",
   "execution_count": 3,
   "id": "7dd8388c",
   "metadata": {},
   "outputs": [
    {
     "data": {
      "text/plain": [
       "0.051956490136704336"
      ]
     },
     "execution_count": 3,
     "metadata": {},
     "output_type": "execute_result"
    }
   ],
   "source": [
    "#Cada vez que ejecutamos este código obtenemos un número distinto:\n",
    "random.random()"
   ]
  },
  {
   "cell_type": "code",
   "execution_count": 4,
   "id": "b855523f",
   "metadata": {},
   "outputs": [
    {
     "name": "stdout",
     "output_type": "stream",
     "text": [
      "0.19425079802450784\n",
      "0.6110246254398777\n",
      "0.6596872707921646\n",
      "0.21884642623299344\n",
      "0.09829569616759404\n",
      "0.4378101702162859\n",
      "0.26220318545272303\n",
      "0.10944347867502491\n",
      "0.26524652194971754\n",
      "0.5104782787502804\n"
     ]
    }
   ],
   "source": [
    "#Generamos 10 números pseudo-aleatorios y los imprimimos\n",
    "for i in range(10):\n",
    "    print(random.random())"
   ]
  },
  {
   "cell_type": "markdown",
   "id": "9239903d",
   "metadata": {},
   "source": [
    "Además, python nos ofrece otras funciones prácticas:\n",
    "\n",
    " - ``random.randint(a,b)`` devuelve un número entero entre a y b (inclusive). Todos los números entre a y b son *\"igualmente probables\"*.\n",
    " - ``random.choice(lista)`` devuelve un elemento de ``lista`` (que debe ser una lista, cadena de caracteres, conjunto...). Todos los elementos son *\"igualmente probables\"*."
   ]
  },
  {
   "cell_type": "code",
   "execution_count": 5,
   "id": "b9796bad",
   "metadata": {},
   "outputs": [
    {
     "name": "stdout",
     "output_type": "stream",
     "text": [
      "10\n",
      "18\n",
      "16\n",
      "18\n",
      "16\n",
      "15\n",
      "16\n",
      "17\n",
      "18\n",
      "18\n"
     ]
    }
   ],
   "source": [
    "for i in range(10):\n",
    "    print (random.randint(10,20))"
   ]
  },
  {
   "cell_type": "code",
   "execution_count": 6,
   "id": "b1a28441",
   "metadata": {},
   "outputs": [
    {
     "name": "stdout",
     "output_type": "stream",
     "text": [
      "I\n",
      "A\n",
      "A\n",
      "O\n",
      "A\n",
      "I\n",
      "A\n",
      "E\n",
      "O\n",
      "O\n"
     ]
    }
   ],
   "source": [
    "for i in range(10):\n",
    "    print(random.choice('AEIOU'))"
   ]
  },
  {
   "cell_type": "markdown",
   "id": "0c3cdc1e",
   "metadata": {},
   "source": [
    "### Semilla aleatoria\n",
    "\n",
    "Estos números parecen aleatorios, pero **el ordenador los obtiene aplicando reglas deterministas**. Sólo parecen aleatorios, pero *la cpu no lanza dados cuando llamamos a random*.\n",
    "\n",
    "Esto no es un inconveniente en la práctica, porque son casi imposibles de distinguir de números auténticamente aleatorios.\n",
    "De hecho, es una virtud, porque si fijamos la **semilla aleatoria**, podemos obtener exactmente los mismos números, aunque hagamos el cálculo en máquinas distintas varios años después."
   ]
  },
  {
   "cell_type": "code",
   "execution_count": 7,
   "id": "b1690406",
   "metadata": {},
   "outputs": [
    {
     "name": "stdout",
     "output_type": "stream",
     "text": [
      "0.13436424411240122\n",
      "0.8474337369372327\n",
      "0.763774618976614\n",
      "0.2550690257394217\n",
      "0.49543508709194095\n",
      "0.4494910647887381\n",
      "0.651592972722763\n",
      "0.7887233511355132\n",
      "0.0938595867742349\n",
      "0.02834747652200631\n",
      "16\n",
      "16\n",
      "19\n",
      "10\n",
      "17\n",
      "14\n",
      "13\n",
      "19\n",
      "11\n",
      "15\n",
      "A\n",
      "A\n",
      "A\n",
      "U\n",
      "A\n",
      "O\n",
      "E\n",
      "O\n",
      "A\n",
      "U\n",
      "adiós\n",
      "ahora vengo\n",
      "ahora vengo\n",
      "adiós\n",
      "¿Qué tal?\n",
      "adiós\n",
      "adiós\n",
      "ahora vengo\n",
      "¿Qué tal?\n",
      "hola\n"
     ]
    }
   ],
   "source": [
    "#Si cambias la semilla, las elecciones cambian, pero con la misma semilla\n",
    "#obtenemos los mismos resultados\n",
    "random.seed(1)\n",
    "for i in range(10):\n",
    "    print (random.random())\n",
    "for i in range(10):\n",
    "    print (random.randint(10,20))\n",
    "for i in range(10):\n",
    "    print(random.choice('AEIOU'))\n",
    "for i in range(10):\n",
    "    print(random.choice([\"hola\",\"adiós\",\"¿Qué tal?\", \"ahora vengo\"]))"
   ]
  },
  {
   "cell_type": "markdown",
   "id": "5ba839f7",
   "metadata": {},
   "source": [
    "### Distribuciones de números aleatorios\n",
    "\n",
    "El bloque de funciones de distribuciones ofrece numerosas funciones que permiten generar un array de números aleatorios a partir de distribuciones de todo tipo, vamos algunos ejemplos:\n",
    "\n",
    "#### Distribución uniforme"
   ]
  },
  {
   "cell_type": "code",
   "execution_count": 8,
   "id": "889b2613",
   "metadata": {},
   "outputs": [
    {
     "data": {
      "image/png": "[encoded data removed]",
      "text/plain": [
       "<Figure size 432x288 with 1 Axes>"
      ]
     },
     "metadata": {
      "needs_background": "light"
     },
     "output_type": "display_data"
    }
   ],
   "source": [
    "N_puntos = 10000\n",
    "ini = 0\n",
    "fin = 10\n",
    "bins = 10\n",
    "\n",
    "x = np.random.uniform(ini, fin, N_puntos)\n",
    "plt.hist(x, bins,density=True)  #desity=True integra la curva a 1\n",
    "plt.hlines(1/10, ini, fin, linestyles =\"-\", colors =\"r\")\n",
    "plt.show() "
   ]
  },
  {
   "cell_type": "markdown",
   "id": "1dfd758a",
   "metadata": {},
   "source": [
    "#### Distribución normal\n",
    "\n",
    "Es una distribución gausiana\n",
    "$$p(x) = \\frac{1}{\\sqrt{ 2 \\pi \\sigma^2 }} e^{ - \\frac{ (x - \\mu)^2 } {2 \\sigma^2} }$$"
   ]
  },
  {
   "cell_type": "code",
   "execution_count": 9,
   "id": "0613dcd7",
   "metadata": {
    "scrolled": true
   },
   "outputs": [
    {
     "data": {
      "image/png": "[encoded data removed]",
      "text/plain": [
       "<Figure size 1152x288 with 3 Axes>"
      ]
     },
     "metadata": {
      "needs_background": "light"
     },
     "output_type": "display_data"
    }
   ],
   "source": [
    "ini = 0\n",
    "fin = 10\n",
    "bins = 100\n",
    "sigma = 1.0\n",
    "mu = 5.0\n",
    "\n",
    "\n",
    "fig, (ax1, ax2, ax3) = plt.subplots(1, 3, figsize=(16,4))\n",
    "\n",
    "N_puntos = 1000\n",
    "x = np.random.normal(mu, sigma, N_puntos)\n",
    "ax1.hist(x, bins,density=True)\n",
    "ax1.set_title(\"N = \"+str(N_puntos))\n",
    "\n",
    "N_puntos = 10000\n",
    "x = np.random.normal(mu, sigma, N_puntos)\n",
    "ax2.hist(x, bins,density=True)\n",
    "ax2.set_title(\"N = \"+str(N_puntos))\n",
    "\n",
    "N_puntos = 100000\n",
    "x = np.random.normal(mu, sigma, N_puntos)\n",
    "ax3.hist(x, bins,density=True)\n",
    "ax3.set_title(\"N = \"+str(N_puntos))\n",
    "\n",
    "x = np.arange(0, 10, 0.1)\n",
    "y=[]\n",
    "for i in range(len(x)):\n",
    "    y.append(1/math.sqrt(2*math.pi*sigma**2)*math.exp(-((x[i]-mu)**2)/(2*sigma**2)))\n",
    "ax1.plot(x,y)\n",
    "ax2.plot(x,y)\n",
    "ax3.plot(x,y)\n",
    "\n",
    "plt.show() "
   ]
  },
  {
   "cell_type": "markdown",
   "id": "865538bc",
   "metadata": {},
   "source": [
    "#### Distribución exponencial\n",
    "\n",
    "Es una distribución exponencial\n",
    "$$  f(x; \\frac{1}{\\beta}) = \\frac{1}{\\beta} \\exp(-\\frac{x}{\\beta})  $$"
   ]
  },
  {
   "cell_type": "code",
   "execution_count": 10,
   "id": "ae09513f",
   "metadata": {
    "scrolled": true
   },
   "outputs": [
    {
     "data": {
      "image/png": "[encoded data removed]",
      "text/plain": [
       "<Figure size 1152x288 with 3 Axes>"
      ]
     },
     "metadata": {
      "needs_background": "light"
     },
     "output_type": "display_data"
    }
   ],
   "source": [
    "ini = 0\n",
    "fin = 10\n",
    "bins = 100\n",
    "beta = 1.0\n",
    "\n",
    "fig, (ax1, ax2, ax3) = plt.subplots(1, 3, figsize=(16,4))\n",
    "\n",
    "N_puntos = 1000\n",
    "x = np.random.exponential(beta, N_puntos)\n",
    "ax1.hist(x, bins,density=True)\n",
    "ax1.set_title(\"N = \"+str(N_puntos))\n",
    "\n",
    "N_puntos = 10000\n",
    "x = np.random.exponential(beta, N_puntos)\n",
    "ax2.hist(x, bins,density=True)\n",
    "ax2.set_title(\"N = \"+str(N_puntos))\n",
    "\n",
    "N_puntos = 100000\n",
    "x = np.random.exponential(beta, N_puntos)\n",
    "ax3.hist(x, bins,density=True)\n",
    "ax3.set_title(\"N = \"+str(N_puntos))\n",
    "\n",
    "x = np.arange(0, 10, 0.1)\n",
    "y=[]\n",
    "for i in range(len(x)):\n",
    "    y.append(1/beta*math.exp(-x[i]/beta))\n",
    "ax1.plot(x,y)\n",
    "ax2.plot(x,y)\n",
    "ax3.plot(x,y)\n",
    "\n",
    "plt.show() "
   ]
  },
  {
   "cell_type": "markdown",
   "id": "8dad7eec",
   "metadata": {},
   "source": [
    "<hr>\n",
    "<b><font color='red'>Ejercicio 01</font></b> \n",
    "\n",
    "Vamos a calcular el valor de $\\pi$, para ello, si $X$ e $Y$ son dos variables aleatorias continuas uniformes en el intervalo (-1,1) y son independientes.  \n",
    "$\\pi$ Vendrá dada por la probabilidad de que $X^2 + Y^2  \\leq 1$, es decir:  \n",
    "$$\\pi = \\frac{4*\\text{nº puntos que caén dentro}}{\\text{nº total de intentos}}$$ \n",
    "Obten tambien una gráfica como la que se muestra a continuación."
   ]
  },
  {
   "cell_type": "code",
   "execution_count": 11,
   "id": "76463b3a",
   "metadata": {
    "scrolled": true
   },
   "outputs": [
    {
     "data": {
      "text/plain": [
       "'Esribe tu código aquí'"
      ]
     },
     "execution_count": 11,
     "metadata": {},
     "output_type": "execute_result"
    }
   ],
   "source": [
    "N=10000 #número de intentos\n",
    "#ayuda plt.figure(figsize=(8,8))\n",
    "\"\"\"Esribe tu código aquí\"\"\""
   ]
  },
  {
   "cell_type": "markdown",
   "id": "a4334c06",
   "metadata": {},
   "source": [
    "<img src=\"f6.png\">  "
   ]
  },
  {
   "cell_type": "code",
   "execution_count": null,
   "id": "8ddc43b7",
   "metadata": {},
   "outputs": [],
   "source": []
  },
  {
   "cell_type": "markdown",
   "id": "8c6dddb1",
   "metadata": {},
   "source": [
    "<hr>\n",
    "<b><font color='red'>Ejercicio 01</font></b> \n",
    "\n",
    "Crea un histograma en que se vea la distribución que saldría al sumar dos dados, tiene que verse unagráfica como la que se muestra a continuación"
   ]
  },
  {
   "cell_type": "code",
   "execution_count": 45,
   "id": "0bb65bb0",
   "metadata": {},
   "outputs": [
    {
     "data": {
      "text/plain": [
       "'Esribe tu código aquí'"
      ]
     },
     "execution_count": 45,
     "metadata": {},
     "output_type": "execute_result"
    }
   ],
   "source": [
    "\"\"\"Esribe tu código aquí\"\"\""
   ]
  },
  {
   "cell_type": "markdown",
   "id": "b86961fd",
   "metadata": {},
   "source": [
    "<img src=\"f7.png\">  "
   ]
  },
  {
   "cell_type": "code",
   "execution_count": null,
   "id": "18e7f7b7",
   "metadata": {},
   "outputs": [],
   "source": []
  }
 ],
 "metadata": {
  "kernelspec": {
   "display_name": "Python 3",
   "language": "python",
   "name": "python3"
  },
  "language_info": {
   "codemirror_mode": {
    "name": "ipython",
    "version": 3
   },
   "file_extension": ".py",
   "mimetype": "text/x-python",
   "name": "python",
   "nbconvert_exporter": "python",
   "pygments_lexer": "ipython3",
   "version": "3.8.10"
  }
 },
 "nbformat": 4,
 "nbformat_minor": 5
}
