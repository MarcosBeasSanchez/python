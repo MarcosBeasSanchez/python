{
 "cells": [
  {
   "cell_type": "markdown",
   "id": "faaf0aee",
   "metadata": {},
   "source": [
    "# Funciones, condicionales y bucles"
   ]
  },
  {
   "cell_type": "markdown",
   "id": "48ebbb44",
   "metadata": {},
   "source": [
    "## Funciones"
   ]
  },
  {
   "cell_type": "code",
   "execution_count": 2,
   "id": "23ce11c2",
   "metadata": {},
   "outputs": [
    {
     "name": "stdout",
     "output_type": "stream",
     "text": [
      "4\n"
     ]
    }
   ],
   "source": [
    "def f(x):\n",
    "    return x*x\n",
    "\n",
    "x=2\n",
    "print(f(x))"
   ]
  },
  {
   "cell_type": "code",
   "execution_count": 3,
   "id": "29692c4d",
   "metadata": {},
   "outputs": [
    {
     "name": "stdout",
     "output_type": "stream",
     "text": [
      "es mayor\n"
     ]
    }
   ],
   "source": [
    "def f(x,y):\n",
    "    if x < y :\n",
    "        print (\"es mayor\")\n",
    "\n",
    "f(1,2)        # es mayor\n",
    "f(2,1)        #\n",
    "f(1,1)        #"
   ]
  },
  {
   "cell_type": "code",
   "execution_count": 4,
   "id": "8d6f1356",
   "metadata": {},
   "outputs": [
    {
     "name": "stdout",
     "output_type": "stream",
     "text": [
      "es mayor\n",
      "es menor\n",
      "es menor\n"
     ]
    }
   ],
   "source": [
    "def f(x,y):\n",
    "    if x < y :\n",
    "        print (\"es mayor\")\n",
    "    else:\n",
    "        print (\"es menor\")\n",
    "\n",
    "f(1,2)        # es mayor\n",
    "f(2,1)        # es menor\n",
    "f(1,1)        # es menor"
   ]
  },
  {
   "cell_type": "code",
   "execution_count": 5,
   "id": "cc288038",
   "metadata": {},
   "outputs": [
    {
     "name": "stdout",
     "output_type": "stream",
     "text": [
      "es mayor\n",
      "es menor\n",
      "es igual\n",
      "es mayor\n",
      "es menor\n",
      "es igual\n"
     ]
    }
   ],
   "source": [
    "def f(x,y):\n",
    "    if x < y :\n",
    "        print (\"es mayor\")\n",
    "    elif x == y:\n",
    "        print (\"es igual\")\n",
    "    else:\n",
    "        print (\"es menor\")\n",
    "\n",
    "f(1,2)        # es mayor\n",
    "f(2,1)        # es menor\n",
    "f(1,1)        # es igual\n",
    "\n",
    "f(\"A\",\"B\")    # es mayor\n",
    "f(\"B\",\"A\")    # es menor\n",
    "f(\"A\",\"A\")    # es igual"
   ]
  },
  {
   "cell_type": "code",
   "execution_count": 6,
   "id": "651f8c66",
   "metadata": {},
   "outputs": [
    {
     "name": "stdout",
     "output_type": "stream",
     "text": [
      "entre 0-10\n",
      "entre 20-30\n"
     ]
    }
   ],
   "source": [
    "def f(x):\n",
    "    if x > 0  and x <= 10 :\n",
    "        print (\"entre 0-10\") \n",
    "    if x > 10  and x <= 20 :\n",
    "        print (\"entre 10-20\") \n",
    "    if x > 20  and x <= 30 :\n",
    "        print (\"entre 20-30\") \n",
    "    if x > 30  and x <= 40 :\n",
    "        print (\"entre 30-40\") \n",
    "\n",
    "f(1)          # entre 0-10\n",
    "f(22)         # entre 20-30"
   ]
  },
  {
   "cell_type": "markdown",
   "id": "8dffa2f5",
   "metadata": {},
   "source": [
    "podríamos pasar varios valores que retornar"
   ]
  },
  {
   "cell_type": "code",
   "execution_count": 7,
   "id": "0e580060",
   "metadata": {},
   "outputs": [
    {
     "name": "stdout",
     "output_type": "stream",
     "text": [
      "2\n",
      "6\n"
     ]
    }
   ],
   "source": [
    "def f(x, y):\n",
    "    return x * 2, y * 3\n",
    "\n",
    "a, b = f(1, 2)\n",
    "print(a)      # 2\n",
    "print(b)      # 6"
   ]
  },
  {
   "cell_type": "markdown",
   "id": "53a99975",
   "metadata": {},
   "source": [
    "### Funcion anónima lambda\n",
    "Primero declaramos la función lambda que será guardada en una variable y le pasamos los parámetros que vamos a necesitar y después solo tenemos que realizar la acción que necesitamos."
   ]
  },
  {
   "cell_type": "code",
   "execution_count": 7,
   "id": "589bf0ef",
   "metadata": {},
   "outputs": [
    {
     "name": "stdout",
     "output_type": "stream",
     "text": [
      "4\n",
      "10\n"
     ]
    }
   ],
   "source": [
    "y = lambda x : x * x\n",
    "print(y(2))   # 4\n",
    "\n",
    "y= lambda x , y : x * y\n",
    "print(y(2,5)) # 10"
   ]
  },
  {
   "cell_type": "markdown",
   "id": "63a014b4",
   "metadata": {},
   "source": [
    "###  Función recursiva\n",
    "Las funciones recursivas son funciones que se llaman a sí mismas durante su propia ejecución."
   ]
  },
  {
   "cell_type": "code",
   "execution_count": 8,
   "id": "c4afa61c",
   "metadata": {},
   "outputs": [
    {
     "name": "stdout",
     "output_type": "stream",
     "text": [
      "120\n"
     ]
    }
   ],
   "source": [
    "def factorial(numero):\n",
    "    if numero > 1:\n",
    "        numero = numero * factorial(numero -1)\n",
    "    return numero\n",
    "\n",
    "print(factorial(5))"
   ]
  },
  {
   "cell_type": "markdown",
   "id": "68e82db5",
   "metadata": {},
   "source": [
    "## Bucles"
   ]
  },
  {
   "cell_type": "code",
   "execution_count": null,
   "id": "49efbbf6",
   "metadata": {},
   "outputs": [],
   "source": []
  }
 ],
 "metadata": {
  "kernelspec": {
   "display_name": "Python 3",
   "language": "python",
   "name": "python3"
  },
  "language_info": {
   "codemirror_mode": {
    "name": "ipython",
    "version": 3
   },
   "file_extension": ".py",
   "mimetype": "text/x-python",
   "name": "python",
   "nbconvert_exporter": "python",
   "pygments_lexer": "ipython3",
   "version": "3.8.10"
  }
 },
 "nbformat": 4,
 "nbformat_minor": 5
}
