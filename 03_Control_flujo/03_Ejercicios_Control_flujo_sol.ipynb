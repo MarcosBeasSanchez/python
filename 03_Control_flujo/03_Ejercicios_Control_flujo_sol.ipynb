{
 "cells": [
  {
   "cell_type": "markdown",
   "id": "5de198f3",
   "metadata": {},
   "source": [
    "<hr>\n",
    "<b><font color='red'>Ejercicio 01</font></b>  \n",
    "\n",
    "- __La media__, es el promedio  \n",
    "$$\\mu = \\frac{1}{N}\\sum_{i=1}^{N} x_i$$\n",
    "- __La desviación estandar__ es una medida que se utiliza para cuantificar la variación o la dispersión de un conjunto de datos numéricos  \n",
    "$$\\sigma = \\sqrt{\\frac{1}{N}\\sum_{i=1}^{N} ( \\mu  - x_i )^{2}} $$\n",
    "Crea una función que te devuelva la media y la desviación estándar de una lista ordenada.  \n",
    "Pruébalo con lista = [4, 1, 11, 13, 2, 7]  \n",
    "ayuda : https://es.wikipedia.org/wiki/Desviaci%C3%B3n_t%C3%ADpica\n"
   ]
  },
  {
   "cell_type": "code",
   "execution_count": 1,
   "id": "1e17a159",
   "metadata": {},
   "outputs": [
    {
     "name": "stdout",
     "output_type": "stream",
     "text": [
      "[4, 1, 11, 13, 2, 7]\n",
      "media = 6.33 ± 4.46\n"
     ]
    }
   ],
   "source": [
    "def media(l):\n",
    "    x = 0\n",
    "    for i in lista:  \n",
    "        x=x+i\n",
    "    x=x/len(lista)\n",
    "    return x\n",
    "\n",
    "def DES(l):\n",
    "    x=0\n",
    "    med=media(lista)\n",
    "    for i in lista:\n",
    "        x=x+(med-i)**(2)\n",
    "    x=x/len(lista)\n",
    "    x=x**(0.5)\n",
    "    return x\n",
    "\n",
    "lista = [4, 1, 11, 13, 2, 7]\n",
    "print(lista)\n",
    "print(f\"media = {media(lista):.2f} ± {DES(lista):.2f}\")"
   ]
  },
  {
   "cell_type": "markdown",
   "id": "f329a7fa",
   "metadata": {},
   "source": [
    "<hr>\n",
    "<b><font color='red'>Ejercicio 02 </font></b>  \n",
    "    \n",
    "En matemática, la sucesión o __serie de Fibonacci__ es la siguiente sucesión infinita de números naturales:  \n",
    "0 , 1 , 1 , 2 , 3 , 5 , 8 , 13 , 21 , 34 , 55 , 89 , 144 , 233 , 377 , 610 , 987 , 1597  \n",
    "Crea una función que te devuelva la serie de Fibonacci hasta un número dado"
   ]
  },
  {
   "cell_type": "code",
   "execution_count": 2,
   "id": "29c01ca4",
   "metadata": {},
   "outputs": [
    {
     "name": "stdout",
     "output_type": "stream",
     "text": [
      "[0, 1, 1, 2, 3, 5, 8, 13, 21, 34, 55, 89, 144, 233, 377, 610, 987, 1597, 2584, 4181, 6765, 10946, 17711, 28657, 46368, 75025, 121393, 196418, 317811, 514229]\n"
     ]
    }
   ],
   "source": [
    "def fibonacci(n):\n",
    "    a=[0,1]\n",
    "    for i in range(2,n):\n",
    "        a.append(a[i-2]+a[i-1])\n",
    "    return a\n",
    "\n",
    "print(fibonacci(30))"
   ]
  },
  {
   "cell_type": "markdown",
   "id": "f254e5ed",
   "metadata": {},
   "source": [
    "<hr>\n",
    "<b><font color='red'>Ejercicio 03</font></b>  \n",
    "\n",
    "Cuenta que, cuando Julio César escribía sus mensajes, reemplazaba cada letra por la que estaba tres lugares más adelante en el alfabeto. Es decir,\n",
    "\"césar\" pasaba a ser \"FHVDU\", crea una función llamada Julio_Cesar que encripte los mensajes de entrada de la siguiente forma:\n",
    "- Pasa las palabras a mayúsculas\n",
    "- Quita los acentos Á -> A, etc ..\n",
    "- Cambia solo ABCDEFGHIJKLMNÑOPQRSTUVWXYZ\n"
   ]
  },
  {
   "cell_type": "code",
   "execution_count": 3,
   "id": "deb6d43d",
   "metadata": {},
   "outputs": [
    {
     "name": "stdout",
     "output_type": "stream",
     "text": [
      "Hola Julio Cesar, ¿Qué tal estas? ABCDEFGHIJKLMNÑOPQRSTUVWXYZ\n",
      "KRÑD MXÑLR FHVDU, ¿TXH WDÑ HVWDV? DEFGHIJKLMNÑOPQRSTUVWXYZABC\n"
     ]
    }
   ],
   "source": [
    "def Julio_Cesar(entrada):\n",
    "    print(entrada)\n",
    "    abc=\"ABCDEFGHIJKLMNÑOPQRSTUVWXYZ\"\n",
    "    abc2=\"DEFGHIJKLMNÑOPQRSTUVWXYZABC\"\n",
    "    entrada=entrada.upper()\n",
    "    #Comprobamos tildes.\n",
    "    entrada=entrada.replace(\"Á\",\"A\").replace(\"É\",\"E\").replace(\"Í\",\"I\").replace(\"Ó\",\"O\").replace(\"Ú\",\"U\")\n",
    "    salir=\"\"\n",
    "    #Ahora empezamos a reemplazar\n",
    "    for i in range(0,len(entrada)):\n",
    "        if abc.count(entrada[i]):\n",
    "            salir=salir + abc2[abc.index(entrada[i])]\n",
    "        else :\n",
    "            salir=salir + entrada[i]\n",
    "    print(salir)\n",
    "\n",
    "\n",
    "Julio_Cesar(\"Hola Julio Cesar, ¿Qué tal estas? ABCDEFGHIJKLMNÑOPQRSTUVWXYZ\")"
   ]
  },
  {
   "cell_type": "markdown",
   "id": "b8b59b29",
   "metadata": {},
   "source": [
    "<hr>\n",
    "<b><font color='red'>Ejercicio 04</font></b>  \n",
    "\n",
    "El cifrado con clave, hay algunas formas de mejorar el método de Julio Cesar sin complicarlo demasiado, por ejemplo elegir una palabra clave con todas sus letras diferentes, supongamos que elegimos TUNOMBRE. Escribimos entonces el alfabeto normal junto con el transformado siguiente:\n",
    "\n",
    "    abc=\"ABCDEFGHIJKLMNÑOPQRSTUVWXYZ\"\n",
    "    ABC=\"TUNOMBREACDFGHIJKLÑOPQVWXYZ\" \n",
    "Utiliza tu nombre sin repetir ninguna letra, es decir si te llamas ANTONIO usa ANTOI "
   ]
  },
  {
   "cell_type": "code",
   "execution_count": 4,
   "id": "1ff4a4ba",
   "metadata": {},
   "outputs": [
    {
     "name": "stdout",
     "output_type": "stream",
     "text": [
      "Hola tu nombre, ¿Qué tal estas? \n",
      "EJFT PQ HJGUÑM, ¿LQM PTF MOPTO? \n"
     ]
    }
   ],
   "source": [
    "def tu_nombre(entrada):    \n",
    "    print(entrada)\n",
    "    abc=\"ABCDEFGHIJKLMNÑOPQRSTUVWXYZ\"\n",
    "    abc2=\"TUNOMBREACDFGHIJKLÑOPQVWXYZ\"\n",
    "    entrada=entrada.upper()\n",
    "    #Comprobamos tildes.\n",
    "    entrada=entrada.replace(\"Á\",\"A\").replace(\"É\",\"E\").replace(\"Í\",\"I\").replace(\"Ó\",\"O\").replace(\"Ú\",\"U\")\n",
    "    salida=\"\"\n",
    "    #Ahora empezamos a reemplazar\n",
    "    for i in range(0,len(entrada)):\n",
    "        if abc.count(entrada[i]):\n",
    "            salida=salida + abc2[abc.index(entrada[i])]\n",
    "        else :\n",
    "            salida=salida + entrada[i]\n",
    "    print(salida)\n",
    "    \n",
    "\n",
    "tu_nombre(\"Hola tu nombre, ¿Qué tal estas? \")"
   ]
  },
  {
   "cell_type": "code",
   "execution_count": null,
   "id": "3d2ecdcf",
   "metadata": {},
   "outputs": [],
   "source": []
  }
 ],
 "metadata": {
  "kernelspec": {
   "display_name": "Python 3",
   "language": "python",
   "name": "python3"
  },
  "language_info": {
   "codemirror_mode": {
    "name": "ipython",
    "version": 3
   },
   "file_extension": ".py",
   "mimetype": "text/x-python",
   "name": "python",
   "nbconvert_exporter": "python",
   "pygments_lexer": "ipython3",
   "version": "3.8.10"
  }
 },
 "nbformat": 4,
 "nbformat_minor": 5
}
