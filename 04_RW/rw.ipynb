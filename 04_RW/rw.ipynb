{
 "cells": [
  {
   "cell_type": "markdown",
   "id": "a6778332",
   "metadata": {},
   "source": [
    "__Cuaderno de trabajo de:__ Nombre Apellido"
   ]
  },
  {
   "cell_type": "markdown",
   "id": "706ed9e7",
   "metadata": {},
   "source": [
    "## Lectura y escritura de archivos\n",
    "\n",
    "    f = open(\"archivo.txt\", \"w\")\n",
    "    f.write('Hola mundo\\n')\n",
    "tenemos los siguientes modos:\n",
    "- ‘r’ : Abre el archivo en modo lectura.\n",
    "-‘w’ : write, escritura. Abre el archivo en modo escritura.\n",
    "-‘a’ : append, se diferencia del modo ‘w’ en que en este caso no se sobreescribe el contenido del archivo, sino que se comienza a escribir al final del archivo.\n",
    "-‘b’ : binary, binario.\n",
    "-‘+’ : permite lectura y escritura simultáneas.\n",
    "-‘U’ : universal newline, saltos de línea universales"
   ]
  },
  {
   "cell_type": "code",
   "execution_count": 1,
   "id": "f3349854",
   "metadata": {},
   "outputs": [
    {
     "name": "stdout",
     "output_type": "stream",
     "text": [
      "<_io.TextIOWrapper name='archivo.txt' mode='r' encoding='UTF-8'>\n"
     ]
    }
   ],
   "source": [
    "f = open(\"archivo.txt\", \"r\")\n",
    "print(f)"
   ]
  },
  {
   "cell_type": "code",
   "execution_count": 2,
   "id": "8625fc41",
   "metadata": {},
   "outputs": [
    {
     "name": "stdout",
     "output_type": "stream",
     "text": [
      "1 2\n",
      "2 4\n",
      "3 6\n",
      "4 8\n",
      "\n"
     ]
    }
   ],
   "source": [
    "f = open(\"archivo.txt\", \"r\")\n",
    "completo = f.read()\n",
    "print(completo)\n",
    "f.close()"
   ]
  },
  {
   "cell_type": "code",
   "execution_count": 3,
   "id": "78efe788",
   "metadata": {},
   "outputs": [
    {
     "name": "stdout",
     "output_type": "stream",
     "text": [
      "1 2\n",
      "2 4\n",
      "\n"
     ]
    }
   ],
   "source": [
    "f = open(\"archivo.txt\", \"r\")\n",
    "parte = f.read(8)\n",
    "print(parte)\n",
    "f.close()"
   ]
  },
  {
   "cell_type": "code",
   "execution_count": 15,
   "id": "0d10cf6e",
   "metadata": {},
   "outputs": [
    {
     "name": "stdout",
     "output_type": "stream",
     "text": [
      "1 2\n",
      "\n",
      "2 4\n",
      "\n",
      "3 6\n",
      "\n",
      "4 8\n",
      "\n"
     ]
    }
   ],
   "source": [
    "f = open(\"archivo.txt\", \"r\")\n",
    "while True:\n",
    "    linea = f.readline()\n",
    "    if not linea: \n",
    "        break\n",
    "    print(linea)"
   ]
  },
  {
   "cell_type": "code",
   "execution_count": 5,
   "id": "d7397ace",
   "metadata": {},
   "outputs": [
    {
     "name": "stdout",
     "output_type": "stream",
     "text": [
      "['1', '2']\n",
      "['2', '4']\n",
      "['3', '6']\n",
      "['4', '8']\n"
     ]
    }
   ],
   "source": [
    "archivo=\"archivo.txt\"\n",
    "text=open(archivo).readlines()\n",
    "nmaxlines=len(text)\n",
    "for line in text:\n",
    "    print(line.split())"
   ]
  },
  {
   "cell_type": "markdown",
   "id": "9829d693",
   "metadata": {},
   "source": [
    "## Manejando excepciones"
   ]
  },
  {
   "cell_type": "code",
   "execution_count": 6,
   "id": "5c8d516b",
   "metadata": {},
   "outputs": [
    {
     "name": "stdout",
     "output_type": "stream",
     "text": [
      "archivo.txt tiene 4 lineas\n",
      "no pude abrir no_existe.txt\n"
     ]
    }
   ],
   "source": [
    "archivo=\"archivo.txt\"\n",
    "try:\n",
    "    f = open(archivo, 'r')\n",
    "except IOError:\n",
    "    print('no pude abrir', archivo)\n",
    "else:\n",
    "    print(archivo, 'tiene', len(f.readlines()), 'lineas')\n",
    "    f.close()\n",
    "\n",
    "archivo=\"no_existe.txt\"\n",
    "try:\n",
    "    f = open(archivo, 'r')\n",
    "except IOError:\n",
    "    print('no pude abrir', archivo)\n",
    "else:\n",
    "    print(archivo, 'tiene', len(f.readlines()), 'lineas')\n",
    "    f.close()"
   ]
  },
  {
   "cell_type": "markdown",
   "id": "af7963e5",
   "metadata": {},
   "source": [
    "## Format\n",
    "La forma más sencilla de mostrar algo en la salida estándar es median-\n",
    "te el uso de la sentencia print, la cual permite también utilizar técnicas avanzadas de formateo, de forma similar al sprintf de C\n",
    "Los especificadores más sencillos están formados por el símbolo % seguido de una letra que indica el tipo con el que formatear el valor Por ejemplo:\n",
    "\n",
    "Especificador | Formato\n",
    ":--------: | :-------:\n",
    "%s |Cadena\n",
    "%d |Entero\n",
    "%o |Octal\n",
    "%x |Hexadecimal\n",
    "%f |Real\n"
   ]
  },
  {
   "cell_type": "code",
   "execution_count": 7,
   "id": "214c3e35",
   "metadata": {},
   "outputs": [
    {
     "name": "stdout",
     "output_type": "stream",
     "text": [
      "      Hola mundo\n"
     ]
    }
   ],
   "source": [
    "print (\"%10s mundo\" % \"Hola\")"
   ]
  },
  {
   "cell_type": "code",
   "execution_count": 8,
   "id": "1ef68d56",
   "metadata": {},
   "outputs": [
    {
     "name": "stdout",
     "output_type": "stream",
     "text": [
      "Hola       mundo\n"
     ]
    }
   ],
   "source": [
    "print (\"%-10s mundo\" % \"Hola\")"
   ]
  },
  {
   "cell_type": "code",
   "execution_count": 24,
   "id": "f043cf97",
   "metadata": {},
   "outputs": [
    {
     "name": "stdout",
     "output_type": "stream",
     "text": [
      "3.1416\n",
      "3.141593\n",
      "3.1416 3.141593\n"
     ]
    }
   ],
   "source": [
    "from math import pi\n",
    "print(\"%.4f\" % pi)\n",
    "print(\"%.6f\" % pi)\n",
    "print(\"%.4f\" % pi,\"%.6f\" % pi)"
   ]
  },
  {
   "cell_type": "code",
   "execution_count": 10,
   "id": "02f0c961",
   "metadata": {},
   "outputs": [
    {
     "name": "stdout",
     "output_type": "stream",
     "text": [
      "hola\n"
     ]
    }
   ],
   "source": [
    "print (\"%.4s\" % \"hola mundo\")"
   ]
  },
  {
   "cell_type": "code",
   "execution_count": 11,
   "id": "f8a1c76a",
   "metadata": {},
   "outputs": [
    {
     "name": "stdout",
     "output_type": "stream",
     "text": [
      "  123.456789    123.456789  \n",
      " 9876.543210   9876.543210  \n"
     ]
    }
   ],
   "source": [
    "n=123.456789\n",
    "cadena='{0:12.6f}  '.format(n)\n",
    "cadena=cadena+'{0:12.6f}  '.format(n)\n",
    "cadena=cadena+\"\\n\"\n",
    "n=9876.54321\n",
    "cadena=cadena+'{0:12.6f}  '.format(n)\n",
    "cadena=cadena+'{0:12.6f}  '.format(n)\n",
    "print(cadena)"
   ]
  },
  {
   "cell_type": "markdown",
   "id": "db791356",
   "metadata": {},
   "source": [
    "<hr>\n",
    "<b><font color='red'>Ejercicio 01</font></b>  \n",
    "\n",
    "Lee el archivo.txt "
   ]
  },
  {
   "cell_type": "code",
   "execution_count": 12,
   "id": "e6cdce8e",
   "metadata": {},
   "outputs": [
    {
     "data": {
      "text/plain": [
       "'Esribe tu código aquí'"
      ]
     },
     "execution_count": 12,
     "metadata": {},
     "output_type": "execute_result"
    }
   ],
   "source": [
    "f = open(\"archivo.txt\", \"r\")\n",
    "\"\"\"Esribe tu código aquí\"\"\""
   ]
  },
  {
   "cell_type": "markdown",
   "id": "13a14400",
   "metadata": {},
   "source": [
    "y haz que tenga la siguiente salida:\n",
    "\n",
    "    1.0   1.00  \n",
    "    2.0   2.00  \n",
    "    3.0   3.00  \n",
    "    4.0   4.00  \n"
   ]
  },
  {
   "cell_type": "markdown",
   "id": "1f7c35eb",
   "metadata": {},
   "source": [
    "<hr>\n",
    "<b><font color='red'>Ejercicio 02</font></b>  "
   ]
  },
  {
   "cell_type": "markdown",
   "id": "c4f95b3c",
   "metadata": {},
   "source": [
    "Haz lo mismo con el archvo archivo_error.txt,con ciddado de que a este archivo le falta algún dato, haz que en ese caso cuando lo lea, si no hay dos columnas no lo escriba."
   ]
  },
  {
   "cell_type": "code",
   "execution_count": 13,
   "id": "eefbe192",
   "metadata": {},
   "outputs": [
    {
     "data": {
      "text/plain": [
       "'Esribe tu código aquí'"
      ]
     },
     "execution_count": 13,
     "metadata": {},
     "output_type": "execute_result"
    }
   ],
   "source": [
    "\"\"\"Esribe tu código aquí\"\"\""
   ]
  },
  {
   "cell_type": "markdown",
   "id": "2c2fcfe0",
   "metadata": {},
   "source": [
    "<hr>\n",
    "<b><font color='red'>Ejercicio 03</font></b>  "
   ]
  },
  {
   "cell_type": "markdown",
   "id": "dd64c7ef",
   "metadata": {},
   "source": [
    "Lee el archivo.txt, haz que imprima las columnas en las filas y las filas en las columnas"
   ]
  },
  {
   "cell_type": "code",
   "execution_count": 14,
   "id": "ce01b1ad",
   "metadata": {},
   "outputs": [
    {
     "data": {
      "text/plain": [
       "'Esribe tu código aquí'"
      ]
     },
     "execution_count": 14,
     "metadata": {},
     "output_type": "execute_result"
    }
   ],
   "source": [
    "\"\"\"Esribe tu código aquí\"\"\""
   ]
  },
  {
   "cell_type": "markdown",
   "id": "593720fa",
   "metadata": {},
   "source": [
    "<hr>\n",
    "<b><font color='red'>Ejercicio 04</font></b>  "
   ]
  },
  {
   "cell_type": "markdown",
   "id": "335cb85f",
   "metadata": {},
   "source": [
    "1. Escribe en un archivo la siguiente matriz:\n",
    "$\n",
    "\\begin{equation}\n",
    "\\begin{pmatrix}\n",
    "3 & 1 & 3\\\\\n",
    "-1 & 1 & 0\\\\\n",
    "-2 & 4 & 1\n",
    "\\end{pmatrix}\n",
    "\\end{equation} \n",
    "$\n",
    "2. Lee el archivo\n",
    "3. Calcula con los datos leidos el determinante de la matriz y lo saque por pantalla"
   ]
  },
  {
   "cell_type": "code",
   "execution_count": null,
   "id": "e3a55672",
   "metadata": {},
   "outputs": [],
   "source": []
  }
 ],
 "metadata": {
  "kernelspec": {
   "display_name": "Python 3",
   "language": "python",
   "name": "python3"
  },
  "language_info": {
   "codemirror_mode": {
    "name": "ipython",
    "version": 3
   },
   "file_extension": ".py",
   "mimetype": "text/x-python",
   "name": "python",
   "nbconvert_exporter": "python",
   "pygments_lexer": "ipython3",
   "version": "3.8.10"
  }
 },
 "nbformat": 4,
 "nbformat_minor": 5
}
