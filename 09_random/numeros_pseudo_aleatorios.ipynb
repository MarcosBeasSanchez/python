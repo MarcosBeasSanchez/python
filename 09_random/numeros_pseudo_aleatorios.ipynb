{
 "cells": [
  {
   "cell_type": "markdown",
   "id": "0c527d16",
   "metadata": {},
   "source": [
    "__Cuaderno de trabajo de:__ Nombre Apellido"
   ]
  },
  {
   "cell_type": "code",
   "execution_count": 1,
   "id": "ec2ad395",
   "metadata": {},
   "outputs": [],
   "source": [
    "import random\n",
    "import matplotlib.pyplot as plt\n",
    "import numpy as np\n",
    "import math \n",
    "import itertools"
   ]
  },
  {
   "cell_type": "markdown",
   "id": "be1ce7ed",
   "metadata": {},
   "source": [
    "### Números pseudo-aleatorios\n",
    "\n",
    "Cualquier lenguaje de programación tiene una función random, que cuando la llamamos nos devuelve un número pseudo-aleatorio entre 0 y 1. Todos los números entre 0 y 1 son *\"igualmente probables\""
   ]
  },
  {
   "cell_type": "code",
   "execution_count": 2,
   "id": "f4ba8bd3",
   "metadata": {},
   "outputs": [],
   "source": [
    "random.random?"
   ]
  },
  {
   "cell_type": "code",
   "execution_count": 3,
   "id": "7dd8388c",
   "metadata": {},
   "outputs": [
    {
     "data": {
      "text/plain": [
       "0.42129197177556865"
      ]
     },
     "execution_count": 3,
     "metadata": {},
     "output_type": "execute_result"
    }
   ],
   "source": [
    "#Cada vez que ejecutamos este código obtenemos un número distinto:\n",
    "random.random()"
   ]
  },
  {
   "cell_type": "code",
   "execution_count": 4,
   "id": "b855523f",
   "metadata": {},
   "outputs": [
    {
     "name": "stdout",
     "output_type": "stream",
     "text": [
      "0.07401764460506266\n",
      "0.06187172471044766\n",
      "0.8824306156592915\n",
      "0.3140717759259858\n",
      "0.7582020375576625\n",
      "0.5043926277618788\n",
      "0.5662003561374805\n",
      "0.9762947833693808\n",
      "0.9301192427696471\n",
      "0.1063806922734244\n"
     ]
    }
   ],
   "source": [
    "#Generamos 10 números pseudo-aleatorios y los imprimimos\n",
    "for i in range(10):\n",
    "    print(random.random())"
   ]
  },
  {
   "cell_type": "markdown",
   "id": "9239903d",
   "metadata": {},
   "source": [
    "Además, python nos ofrece otras funciones prácticas:\n",
    "\n",
    " - ``random.randint(a,b)`` devuelve un número entero entre a y b (inclusive). Todos los números entre a y b son *\"igualmente probables\"*.\n",
    " - ``random.choice(lista)`` devuelve un elemento de ``lista`` (que debe ser una lista, cadena de caracteres, conjunto...). Todos los elementos son *\"igualmente probables\"*."
   ]
  },
  {
   "cell_type": "code",
   "execution_count": 5,
   "id": "b9796bad",
   "metadata": {},
   "outputs": [
    {
     "name": "stdout",
     "output_type": "stream",
     "text": [
      "16\n",
      "15\n",
      "14\n",
      "18\n",
      "19\n",
      "15\n",
      "17\n",
      "19\n",
      "18\n",
      "17\n"
     ]
    }
   ],
   "source": [
    "for i in range(10):\n",
    "    print (random.randint(10,20))"
   ]
  },
  {
   "cell_type": "code",
   "execution_count": 6,
   "id": "b1a28441",
   "metadata": {},
   "outputs": [
    {
     "name": "stdout",
     "output_type": "stream",
     "text": [
      "[1, 3, 2]\n",
      "[1, 3, 2]\n",
      "[4, 2]\n",
      "[4, 2]\n",
      "[1, 3, 2]\n",
      "[1, 3, 2]\n",
      "[4, 2]\n",
      "[1, 3, 2]\n",
      "[4, 2]\n",
      "[1, 3, 2]\n"
     ]
    }
   ],
   "source": [
    "for i in range(10):\n",
    "    \n",
    "    print(random.choice([[1,3,2],[4,2]]))"
   ]
  },
  {
   "cell_type": "markdown",
   "id": "0c3cdc1e",
   "metadata": {},
   "source": [
    "### Semilla aleatoria\n",
    "\n",
    "Estos números parecen aleatorios, pero **el ordenador los obtiene aplicando reglas deterministas**. Sólo parecen aleatorios, pero *la cpu no lanza dados cuando llamamos a random*.\n",
    "\n",
    "Esto no es un inconveniente en la práctica, porque son casi imposibles de distinguir de números auténticamente aleatorios.\n",
    "De hecho, es una virtud, porque si fijamos la **semilla aleatoria**, podemos obtener exactmente los mismos números, aunque hagamos el cálculo en máquinas distintas varios años después."
   ]
  },
  {
   "cell_type": "code",
   "execution_count": 7,
   "id": "b1690406",
   "metadata": {},
   "outputs": [
    {
     "name": "stdout",
     "output_type": "stream",
     "text": [
      "0.13436424411240122\n",
      "0.8474337369372327\n",
      "0.763774618976614\n",
      "0.2550690257394217\n",
      "0.49543508709194095\n",
      "0.4494910647887381\n",
      "0.651592972722763\n",
      "0.7887233511355132\n",
      "0.0938595867742349\n",
      "0.02834747652200631\n",
      "16\n",
      "16\n",
      "19\n",
      "10\n",
      "17\n",
      "14\n",
      "13\n",
      "19\n",
      "11\n",
      "15\n",
      "A\n",
      "A\n",
      "A\n",
      "U\n",
      "A\n",
      "O\n",
      "E\n",
      "O\n",
      "A\n",
      "U\n",
      "adiós\n",
      "ahora vengo\n",
      "ahora vengo\n",
      "adiós\n",
      "¿Qué tal?\n",
      "adiós\n",
      "adiós\n",
      "ahora vengo\n",
      "¿Qué tal?\n",
      "hola\n"
     ]
    }
   ],
   "source": [
    "#Si cambias la semilla, las elecciones cambian, pero con la misma semilla\n",
    "#obtenemos los mismos resultados\n",
    "random.seed(1)\n",
    "for i in range(10):\n",
    "    print (random.random())\n",
    "for i in range(10):\n",
    "    print (random.randint(10,20))\n",
    "for i in range(10):\n",
    "    print(random.choice('AEIOU'))\n",
    "for i in range(10):\n",
    "    print(random.choice([\"hola\",\"adiós\",\"¿Qué tal?\", \"ahora vengo\"]))"
   ]
  },
  {
   "cell_type": "markdown",
   "id": "93ed4d36",
   "metadata": {},
   "source": [
    "### Distribuciones de números aleatorios\n",
    "\n",
    "El bloque de funciones de distribuciones ofrece numerosas funciones que permiten generar un array de números aleatorios a partir de distribuciones de todo tipo, vamos algunos ejemplos:\n",
    "\n",
    "#### Distribución uniforme"
   ]
  },
  {
   "cell_type": "code",
   "execution_count": 8,
   "id": "8042b095",
   "metadata": {},
   "outputs": [
    {
     "data": {
      "image/png": "[encoded data removed]",
      "text/plain": [
       "<Figure size 432x288 with 1 Axes>"
      ]
     },
     "metadata": {
      "needs_background": "light"
     },
     "output_type": "display_data"
    }
   ],
   "source": [
    "N_puntos = 10000\n",
    "ini = 1\n",
    "fin = 6\n",
    "bins = 6\n",
    "\n",
    "x = np.random.uniform(ini, fin, N_puntos)\n",
    "plt.hist(x, bins,density=True)  #desity=True integra la curva a 1\n",
    "plt.hlines(1/10, ini, fin, linestyles =\"-\", colors =\"r\")\n",
    "plt.show() "
   ]
  },
  {
   "cell_type": "markdown",
   "id": "2ea59cae",
   "metadata": {},
   "source": [
    "#### Distribución normal\n",
    "\n",
    "Es una distribución gausiana\n",
    "$$p(x) = \\frac{1}{\\sqrt{ 2 \\pi \\sigma^2 }} e^{ - \\frac{ (x - \\mu)^2 } {2 \\sigma^2} }$$"
   ]
  },
  {
   "cell_type": "code",
   "execution_count": 9,
   "id": "11d2530d",
   "metadata": {
    "scrolled": true
   },
   "outputs": [
    {
     "data": {
      "image/png": "[encoded data removed]",
      "text/plain": [
       "<Figure size 1152x288 with 3 Axes>"
      ]
     },
     "metadata": {
      "needs_background": "light"
     },
     "output_type": "display_data"
    }
   ],
   "source": [
    "ini = 0\n",
    "fin = 10\n",
    "bins = 100\n",
    "sigma = 1.0\n",
    "mu = 5.0\n",
    "\n",
    "\n",
    "fig, (ax1, ax2, ax3) = plt.subplots(1, 3, figsize=(16,4))\n",
    "\n",
    "N_puntos = 1000\n",
    "x = np.random.normal(mu, sigma, N_puntos)\n",
    "ax1.hist(x, bins,density=True)\n",
    "ax1.set_title(\"N = \"+str(N_puntos))\n",
    "\n",
    "N_puntos = 10000\n",
    "x = np.random.normal(mu, sigma, N_puntos)\n",
    "ax2.hist(x, bins,density=True)\n",
    "ax2.set_title(\"N = \"+str(N_puntos))\n",
    "\n",
    "N_puntos = 100000\n",
    "x = np.random.normal(mu, sigma, N_puntos)\n",
    "ax3.hist(x, bins,density=True)\n",
    "ax3.set_title(\"N = \"+str(N_puntos))\n",
    "\n",
    "x = np.arange(0, 10, 0.1)\n",
    "y=[]\n",
    "for i in range(len(x)):\n",
    "    y.append(1/math.sqrt(2*math.pi*sigma**2)*math.exp(-((x[i]-mu)**2)/(2*sigma**2)))\n",
    "ax1.plot(x,y)\n",
    "ax2.plot(x,y)\n",
    "ax3.plot(x,y)\n",
    "\n",
    "plt.show() "
   ]
  },
  {
   "cell_type": "markdown",
   "id": "4e1a4cad",
   "metadata": {},
   "source": [
    "#### Distribución exponencial\n",
    "\n",
    "Es una distribución exponencial\n",
    "$$  f(x; \\frac{1}{\\beta}) = \\frac{1}{\\beta} \\exp(-\\frac{x}{\\beta})  $$"
   ]
  },
  {
   "cell_type": "code",
   "execution_count": 10,
   "id": "225ec280",
   "metadata": {
    "scrolled": false
   },
   "outputs": [
    {
     "data": {
      "image/png": "[encoded data removed]",
      "text/plain": [
       "<Figure size 1152x288 with 3 Axes>"
      ]
     },
     "metadata": {
      "needs_background": "light"
     },
     "output_type": "display_data"
    }
   ],
   "source": [
    "ini = 0\n",
    "fin = 10\n",
    "bins = 100\n",
    "beta = 1.0\n",
    "\n",
    "fig, (ax1, ax2, ax3) = plt.subplots(1, 3, figsize=(16,4))\n",
    "\n",
    "N_puntos = 1000\n",
    "x = np.random.exponential(beta, N_puntos)\n",
    "ax1.hist(x, bins,density=True)\n",
    "ax1.set_title(\"N = \"+str(N_puntos))\n",
    "\n",
    "N_puntos = 10000\n",
    "x = np.random.exponential(beta, N_puntos)\n",
    "ax2.hist(x, bins,density=True)\n",
    "ax2.set_title(\"N = \"+str(N_puntos))\n",
    "\n",
    "N_puntos = 100000\n",
    "x = np.random.exponential(beta, N_puntos)\n",
    "ax3.hist(x, bins,density=True)\n",
    "ax3.set_title(\"N = \"+str(N_puntos))\n",
    "\n",
    "x = np.arange(0, 10, 0.1)\n",
    "y=[]\n",
    "for i in range(len(x)):\n",
    "    y.append(1/beta*math.exp(-x[i]/beta))\n",
    "ax1.plot(x,y)\n",
    "ax2.plot(x,y)\n",
    "ax3.plot(x,y)\n",
    "\n",
    "plt.show() "
   ]
  },
  {
   "cell_type": "markdown",
   "id": "adfbe69a",
   "metadata": {},
   "source": [
    "<hr>\n",
    "<b><font color='red'>Ejercicio 01</font></b> \n",
    "\n",
    "El método **Montecarlo** es un método no determinista o estadístico numérico, usado para aproximar expresiones matemáticas complejas y costosas de evaluar con exactitud. El método se llamó así en referencia al Casino de Montecarlo (Mónaco) por ser “la capital del juego de azar”, al ser la ruleta un generador simple de números aleatorios. El nombre y el desarrollo sistemático de los métodos de Montecarlo datan aproximadamente de 1944 testee combinaciones posibles.\n",
    "\n",
    "Vamos a calcular el valor de $\\pi$, para ello, si $X$ e $Y$ son dos variables aleatorias continuas uniformes en el intervalo (-1,1) y son independientes.  \n",
    "$\\pi$ Vendrá dada por la probabilidad de que $X^2 + Y^2  \\leq 1$, es decir:  \n",
    "$$\\pi = \\frac{4*\\text{nº puntos que caén dentro}}{\\text{nº total de intentos}}$$ \n",
    "Obten tambien una gráfica como la que se muestra a continuación."
   ]
  },
  {
   "cell_type": "code",
   "execution_count": 11,
   "id": "c5958c67",
   "metadata": {
    "scrolled": true
   },
   "outputs": [
    {
     "data": {
      "text/plain": [
       "'Esribe tu código aquí'"
      ]
     },
     "execution_count": 11,
     "metadata": {},
     "output_type": "execute_result"
    }
   ],
   "source": [
    "N=10000 #número de intentos\n",
    "#ayuda plt.figure(figsize=(8,8))\n",
    "\"\"\"Esribe tu código aquí\"\"\""
   ]
  },
  {
   "cell_type": "markdown",
   "id": "b8a29ca0",
   "metadata": {},
   "source": [
    "<img src=\"f6.png\">  "
   ]
  },
  {
   "cell_type": "markdown",
   "id": "12ffcae9",
   "metadata": {},
   "source": [
    "<hr>\n",
    "<b><font color='red'>Ejercicio 02</font></b> \n",
    "\n",
    "Crea un histograma en que se vea la distribución que saldría al sumar dos dados, tiene que verse una gráfica como la que se muestra a continuación"
   ]
  },
  {
   "cell_type": "code",
   "execution_count": 12,
   "id": "8a2648fb",
   "metadata": {},
   "outputs": [
    {
     "data": {
      "text/plain": [
       "'Esribe tu código aquí'"
      ]
     },
     "execution_count": 12,
     "metadata": {},
     "output_type": "execute_result"
    }
   ],
   "source": [
    "\"\"\"Esribe tu código aquí\"\"\""
   ]
  },
  {
   "cell_type": "markdown",
   "id": "047f8814",
   "metadata": {},
   "source": [
    "<img src=\"f7.png\">  "
   ]
  },
  {
   "cell_type": "markdown",
   "id": "4ff1966d",
   "metadata": {},
   "source": [
    "<hr>\n",
    "<b><font color='red'>Ejercicio 03</font></b> \n",
    "\n",
    "Al implementar MD5, obtendremos como resultado, una cadena alfanumérica de 32 caracteres hexadecimales. Ocupando siempre 16 Bytes de memoria. \n",
    "\n",
    "El siguiente pin = '4aca32b706287f13903f08b7aab38f79', ha sido codificado con md5 \"hashlib.md5(b'****')\", para ello han utilizado dos carácteres en mayúsculas ('ABCDEF')  y dos números (0-9) , haz una función que obtenga el pin descodificado utilizando random.\n",
    "\n",
    "¿Cuántos intentos ha relizado hasta que la ha descubierto?\n",
    "Realiza el ejercicio varias veces y haz un histograma.\n",
    "\n"
   ]
  },
  {
   "cell_type": "code",
   "execution_count": 13,
   "id": "cde21e23",
   "metadata": {},
   "outputs": [
    {
     "data": {
      "text/plain": [
       "'Esribe tu código aquí'"
      ]
     },
     "execution_count": 13,
     "metadata": {},
     "output_type": "execute_result"
    }
   ],
   "source": [
    "\"\"\"Esribe tu código aquí\"\"\""
   ]
  },
  {
   "cell_type": "markdown",
   "id": "7edebc64",
   "metadata": {},
   "source": [
    "<hr>\n",
    "<b><font color='red'>Ejercicio 04</font></b>  \n",
    "\n",
    "Empezamos con el problema del viajante, (Travelling Salesman Problem) responde a la siguiente pregunta: dada una lista de ciudades y las distancias entre cada par de ellas, ¿cuál es la ruta más corta posible que visita cada ciudad exactamente una vez y al finalizar regresa a la ciudad origen? Este es un problema NP-Hard dentro en la optimización combinatoria, muy importante en investigación operativa y en ciencias de la computación. \n",
    "En el siguiente problema partiendo de Madrid tenemos que pasar por las siguientes ciudades"
   ]
  },
  {
   "cell_type": "code",
   "execution_count": 14,
   "id": "d95fc0a1",
   "metadata": {},
   "outputs": [
    {
     "data": {
      "application/vnd.jupyter.widget-view+json": {
       "model_id": "82fe316788644b28aea83bf1518cada6",
       "version_major": 2,
       "version_minor": 0
      },
      "text/plain": [
       "Map(center=[40.4950873744, -3.71704619215], controls=(ZoomControl(options=['position', 'zoom_in_text', 'zoom_i…"
      ]
     },
     "metadata": {},
     "output_type": "display_data"
    }
   ],
   "source": [
    "from ipyleaflet import Map, Polyline\n",
    "from ipyleaflet import Map, basemaps, basemap_to_tiles, Circle\n",
    "\n",
    "\n",
    "ciudad = [[40.4950873744,-3.71704619215],\n",
    "[41.6207742504,-2.58874304739],\n",
    "[38.4786378049,-0.568699068376],\n",
    "[42.0439686698,1.04798206104],\n",
    "[36.5538729195,-5.7604183752],\n",
    "[40.8049892162,-6.06541224773],\n",
    "[42.435764706,-8.46106294738],\n",
    "[38.0165122783,-3.44169215171],\n",
    "[41.6203648019,-1.06449678144],\n",
    "[42.1280117119,2.6735559327],\n",
    "[43.292357861,-5.99350932547]]\n",
    " \n",
    "line = Polyline(\n",
    "    locations=ciudad,\n",
    "    color=\"blue\" ,\n",
    "    weight = 2,\n",
    "    fill=False\n",
    ")\n",
    "c=ciudad[0]\n",
    "m = Map(center = ciudad[0], zoom =5.4)\n",
    "for i in ciudad:\n",
    "    circle = Circle()\n",
    "    circle.location = i\n",
    "    circle.radius = 5000\n",
    "    circle.color = \"blue\"\n",
    "    circle.fill_color = \"blue\"\n",
    "    m.add_layer(circle)\n",
    "m.add_layer(line)\n",
    "m"
   ]
  },
  {
   "cell_type": "markdown",
   "id": "7d06bd75",
   "metadata": {},
   "source": [
    "Crea una función que obtenga el recorrido realizado, testeala con el orden actual de ciudades \n",
    "\n",
    "    sol : d = 435.6697061255633"
   ]
  },
  {
   "cell_type": "code",
   "execution_count": 15,
   "id": "019191e4",
   "metadata": {},
   "outputs": [
    {
     "data": {
      "text/plain": [
       "'Esribe tu código aquí'"
      ]
     },
     "execution_count": 15,
     "metadata": {},
     "output_type": "execute_result"
    }
   ],
   "source": [
    "\"\"\"Esribe tu código aquí\"\"\""
   ]
  },
  {
   "cell_type": "markdown",
   "id": "2e5af018",
   "metadata": {},
   "source": [
    "Haz un algoritmo que utilice el **método montecarlo**, para este problema haz que desde desde la ciudad[0] se minimice la distancia recorrida, utilizalo con almenos 1000000 permutaciones aleatorias para mejorar el recorrido."
   ]
  },
  {
   "cell_type": "code",
   "execution_count": 16,
   "id": "42805f39",
   "metadata": {},
   "outputs": [
    {
     "data": {
      "text/plain": [
       "'Esribe tu código aquí'"
      ]
     },
     "execution_count": 16,
     "metadata": {},
     "output_type": "execute_result"
    }
   ],
   "source": [
    "\"\"\"Esribe tu código aquí\"\"\""
   ]
  },
  {
   "cell_type": "markdown",
   "id": "f4c8f3cd",
   "metadata": {},
   "source": [
    "Utiliza itertools para generar todas las permutaciones y obtener la solución"
   ]
  },
  {
   "cell_type": "markdown",
   "id": "7036effc",
   "metadata": {},
   "source": [
    "<img src=\"permutations_ciudades.png\">  "
   ]
  },
  {
   "cell_type": "code",
   "execution_count": 17,
   "id": "107a28c1",
   "metadata": {},
   "outputs": [
    {
     "data": {
      "text/plain": [
       "'Esribe tu código aquí'"
      ]
     },
     "execution_count": 17,
     "metadata": {},
     "output_type": "execute_result"
    }
   ],
   "source": [
    "\"\"\"Esribe tu código aquí\"\"\"\n",
    "#sol d = 434.64381367718534"
   ]
  },
  {
   "cell_type": "code",
   "execution_count": null,
   "id": "13f23fd8",
   "metadata": {},
   "outputs": [],
   "source": []
  }
 ],
 "metadata": {
  "kernelspec": {
   "display_name": "Python 3",
   "language": "python",
   "name": "python3"
  },
  "language_info": {
   "codemirror_mode": {
    "name": "ipython",
    "version": 3
   },
   "file_extension": ".py",
   "mimetype": "text/x-python",
   "name": "python",
   "nbconvert_exporter": "python",
   "pygments_lexer": "ipython3",
   "version": "3.8.10"
  }
 },
 "nbformat": 4,
 "nbformat_minor": 5
}
