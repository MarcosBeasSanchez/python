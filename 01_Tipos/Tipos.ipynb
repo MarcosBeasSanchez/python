{
 "cells": [
  {
   "cell_type": "markdown",
   "id": "abbf21b4-a038-4bf1-9c48-316e6029c331",
   "metadata": {
    "tags": []
   },
   "source": [
    "# Tipos básicos :\n",
    "* Números\n",
    "     + int\n",
    "     + float\n",
    "     + complex\n",
    "* Cadenas\n",
    "* Booleanos"
   ]
  },
  {
   "cell_type": "code",
   "execution_count": 2,
   "id": "051fd0de-2e5f-4ff5-b9b2-f83703ad3d94",
   "metadata": {},
   "outputs": [
    {
     "name": "stdout",
     "output_type": "stream",
     "text": [
      "<class 'int'>\n"
     ]
    }
   ],
   "source": [
    "x=5\n",
    "y=2\n",
    "print(type(x))"
   ]
  },
  {
   "cell_type": "code",
   "execution_count": 3,
   "id": "b7c57f7b-c93e-415f-ba5a-6b6d594a1f87",
   "metadata": {},
   "outputs": [
    {
     "name": "stdout",
     "output_type": "stream",
     "text": [
      "7\n"
     ]
    }
   ],
   "source": [
    "print(x+y)     "
   ]
  },
  {
   "cell_type": "markdown",
   "id": "4e5f1474-fdfd-448a-ab38-dea02f6ed882",
   "metadata": {
    "tags": []
   },
   "source": [
    "# Tipos básicos :\n",
    "* Números\n",
    "     + int\n",
    "     + float\n",
    "     + complex\n",
    "* Cadenas\n",
    "* Booleanos\n",
    "\n",
    "# Operadores aritméticos:\n",
    "- \\+ suma\n",
    "- \\- resta\n",
    "- \\* multiplicación\n",
    "- \\*\\* exponente\n",
    "- \\/  división\n",
    "- \\/\\/ división entera\n",
    "- \\%  modulo\n",
    "\n",
    "# Operadores de comparación\n",
    " - \\=\\=  igual\n",
    " - \\!\\=  no igual\n",
    " -  \\>  mayor que\n",
    " -  \\<  menor que\n",
    " - \\>\\=  mayor o igual que \n",
    " - \\<\\=  menor o igual que \n",
    "\n",
    "# Operadorres lógicos\n",
    " - and\n",
    " - or\n",
    " - not\n",
    " - is\n",
    " - is not\n",
    "\n",
    "# operadores binarios\n",
    " - \\&  and\n",
    " - \\|  or\n",
    " - \\^  xor\n",
    " - \\~  not\n",
    " - \\<\\< desplazar bits\n",
    " - \\>\\> desplazar bits\n",
    "\n",
    "# Casting \n",
    "- int() \n",
    "- float() \n",
    "- "
   ]
  },
  {
   "cell_type": "code",
   "execution_count": null,
   "id": "b39472ca-c141-4ce3-9747-3819e2e9edb7",
   "metadata": {},
   "outputs": [],
   "source": []
  },
  {
   "cell_type": "code",
   "execution_count": null,
   "id": "9f677a7f-cbf0-4083-9764-06b3a93b2734",
   "metadata": {},
   "outputs": [],
   "source": []
  },
  {
   "cell_type": "code",
   "execution_count": null,
   "id": "13098e45-be1c-4a31-a6e9-0fb62447f75d",
   "metadata": {},
   "outputs": [],
   "source": []
  }
 ],
 "metadata": {
  "kernelspec": {
   "display_name": "Python 3",
   "language": "python",
   "name": "python3"
  },
  "language_info": {
   "codemirror_mode": {
    "name": "ipython",
    "version": 3
   },
   "file_extension": ".py",
   "mimetype": "text/x-python",
   "name": "python",
   "nbconvert_exporter": "python",
   "pygments_lexer": "ipython3",
   "version": "3.8.5"
  }
 },
 "nbformat": 4,
 "nbformat_minor": 5
}
