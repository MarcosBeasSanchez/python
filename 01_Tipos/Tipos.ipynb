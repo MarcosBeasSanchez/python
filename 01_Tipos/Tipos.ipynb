{
 "cells": [
  {
   "cell_type": "markdown",
   "id": "abbf21b4-a038-4bf1-9c48-316e6029c331",
   "metadata": {
    "tags": []
   },
   "source": [
    "# Tipos básicos\n",
    "* Números\n",
    "     + int\n",
    "     + float\n",
    "     + complex\n",
    "* Cadenas\n",
    "* Booleanos\n",
    "\n",
    "# Operadores aritméticos\n",
    "- \\+ suma\n",
    "- \\- resta\n",
    "- \\* multiplicación\n",
    "- \\*\\* exponente\n",
    "- \\/  división\n",
    "- \\/\\/ división entera\n",
    "- \\%  modulo\n",
    "\n",
    "# Operadores de comparación\n",
    " - \\=\\=  igual\n",
    " - \\!\\=  no igual\n",
    " -  \\>  mayor que\n",
    " -  \\<  menor que\n",
    " - \\>\\=  mayor o igual que \n",
    " - \\<\\=  menor o igual que \n",
    "\n",
    "# Operadorres lógicos\n",
    " - and\n",
    " - or\n",
    " - not\n",
    " - is\n",
    " - is not\n",
    "\n",
    "# operadores binarios\n",
    " - \\&  and\n",
    " - \\|  or\n",
    " - \\^  xor\n",
    " - \\~  not\n",
    " - \\<\\< desplazar bits\n",
    " - \\>\\> desplazar bits\n",
    "\n",
    "# Casting \n",
    "- int() \n",
    "- float() "
   ]
  },
  {
   "cell_type": "markdown",
   "id": "9bdb2134",
   "metadata": {},
   "source": [
    "# int"
   ]
  },
  {
   "cell_type": "code",
   "execution_count": 7,
   "id": "051fd0de-2e5f-4ff5-b9b2-f83703ad3d94",
   "metadata": {},
   "outputs": [
    {
     "name": "stdout",
     "output_type": "stream",
     "text": [
      "<class 'int'>\n"
     ]
    }
   ],
   "source": [
    "x=5\n",
    "y=2\n",
    "print(type(x))"
   ]
  },
  {
   "cell_type": "code",
   "execution_count": 8,
   "id": "b7c57f7b-c93e-415f-ba5a-6b6d594a1f87",
   "metadata": {},
   "outputs": [
    {
     "name": "stdout",
     "output_type": "stream",
     "text": [
      "7\n"
     ]
    }
   ],
   "source": [
    "print(x+y)     "
   ]
  },
  {
   "cell_type": "code",
   "execution_count": 9,
   "id": "8e0c732b",
   "metadata": {},
   "outputs": [
    {
     "name": "stdout",
     "output_type": "stream",
     "text": [
      "3\n"
     ]
    }
   ],
   "source": [
    "print(x-y)    "
   ]
  },
  {
   "cell_type": "code",
   "execution_count": 10,
   "id": "b9c40881",
   "metadata": {},
   "outputs": [
    {
     "name": "stdout",
     "output_type": "stream",
     "text": [
      "10\n"
     ]
    }
   ],
   "source": [
    "print(x*y)"
   ]
  },
  {
   "cell_type": "code",
   "execution_count": 11,
   "id": "66123916",
   "metadata": {},
   "outputs": [
    {
     "name": "stdout",
     "output_type": "stream",
     "text": [
      "25\n"
     ]
    }
   ],
   "source": [
    "print(x**y) "
   ]
  },
  {
   "cell_type": "code",
   "execution_count": 12,
   "id": "47906ce4",
   "metadata": {},
   "outputs": [
    {
     "name": "stdout",
     "output_type": "stream",
     "text": [
      "2.5\n"
     ]
    }
   ],
   "source": [
    "print(x/y) "
   ]
  },
  {
   "cell_type": "code",
   "execution_count": 14,
   "id": "7c61bb66",
   "metadata": {},
   "outputs": [
    {
     "name": "stdout",
     "output_type": "stream",
     "text": [
      "2\n"
     ]
    }
   ],
   "source": [
    "print(x//y) "
   ]
  },
  {
   "cell_type": "code",
   "execution_count": 15,
   "id": "6f9bcd52",
   "metadata": {},
   "outputs": [
    {
     "name": "stdout",
     "output_type": "stream",
     "text": [
      "1\n"
     ]
    }
   ],
   "source": [
    "print(x%y)"
   ]
  },
  {
   "cell_type": "code",
   "execution_count": 16,
   "id": "5d1c56e1",
   "metadata": {},
   "outputs": [
    {
     "name": "stdout",
     "output_type": "stream",
     "text": [
      "7\n"
     ]
    }
   ],
   "source": [
    "x+=2\n",
    "print(x)"
   ]
  },
  {
   "cell_type": "code",
   "execution_count": 17,
   "id": "969ce851",
   "metadata": {},
   "outputs": [
    {
     "name": "stdout",
     "output_type": "stream",
     "text": [
      "5\n"
     ]
    }
   ],
   "source": [
    "x-=2\n",
    "print(x) "
   ]
  },
  {
   "cell_type": "code",
   "execution_count": 18,
   "id": "364d4114",
   "metadata": {},
   "outputs": [
    {
     "name": "stdout",
     "output_type": "stream",
     "text": [
      "10\n"
     ]
    }
   ],
   "source": [
    "x*=2\n",
    "print(x)"
   ]
  },
  {
   "cell_type": "code",
   "execution_count": 19,
   "id": "6912e66c",
   "metadata": {},
   "outputs": [
    {
     "name": "stdout",
     "output_type": "stream",
     "text": [
      "100\n"
     ]
    }
   ],
   "source": [
    "x**=2\n",
    "print(x)"
   ]
  },
  {
   "cell_type": "code",
   "execution_count": 20,
   "id": "79761114",
   "metadata": {},
   "outputs": [
    {
     "name": "stdout",
     "output_type": "stream",
     "text": [
      "50.0\n"
     ]
    }
   ],
   "source": [
    "x/=2\n",
    "print(x)"
   ]
  },
  {
   "cell_type": "code",
   "execution_count": 22,
   "id": "631ce696",
   "metadata": {
    "scrolled": true
   },
   "outputs": [
    {
     "name": "stdout",
     "output_type": "stream",
     "text": [
      "12.0\n"
     ]
    }
   ],
   "source": [
    "x//=2\n",
    "print(x)"
   ]
  },
  {
   "cell_type": "markdown",
   "id": "a27a218e",
   "metadata": {},
   "source": [
    "# Operadores aritméticos:\n",
    "\n",
    "    + suma\n",
    "    - resta\n",
    "    * multiplicación\n",
    "    ** exponente\n",
    "    / división\n",
    "    // división entera\n",
    "    % modulo\n"
   ]
  },
  {
   "cell_type": "markdown",
   "id": "4e5f1474-fdfd-448a-ab38-dea02f6ed882",
   "metadata": {
    "tags": []
   },
   "source": [
    "\n",
    "\n",
    "- "
   ]
  },
  {
   "cell_type": "code",
   "execution_count": null,
   "id": "99f0ef6a",
   "metadata": {},
   "outputs": [],
   "source": []
  },
  {
   "cell_type": "code",
   "execution_count": null,
   "id": "b39472ca-c141-4ce3-9747-3819e2e9edb7",
   "metadata": {},
   "outputs": [],
   "source": []
  },
  {
   "cell_type": "code",
   "execution_count": null,
   "id": "9f677a7f-cbf0-4083-9764-06b3a93b2734",
   "metadata": {},
   "outputs": [],
   "source": []
  },
  {
   "cell_type": "code",
   "execution_count": null,
   "id": "13098e45-be1c-4a31-a6e9-0fb62447f75d",
   "metadata": {},
   "outputs": [],
   "source": []
  }
 ],
 "metadata": {
  "kernelspec": {
   "display_name": "Python 3",
   "language": "python",
   "name": "python3"
  },
  "language_info": {
   "codemirror_mode": {
    "name": "ipython",
    "version": 3
   },
   "file_extension": ".py",
   "mimetype": "text/x-python",
   "name": "python",
   "nbconvert_exporter": "python",
   "pygments_lexer": "ipython3",
   "version": "3.8.5"
  }
 },
 "nbformat": 4,
 "nbformat_minor": 5
}
