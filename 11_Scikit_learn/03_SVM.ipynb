{
 "cells": [
  {
   "cell_type": "markdown",
   "id": "972d9c7b",
   "metadata": {},
   "source": [
    "## Clasificadores SVM en Scikit-learn\n",
    "SVC es la clase principal ofrecida por Scikit-learn, es un algoritmo de clasificación y regresión desarrollado en la  dentro del campo de la ciencia computaciona\n",
    "### Patrón de modelado de Sckit-Learn\n",
    "\n",
    "  - Importe el modelo que desea utilizar.\n",
    "  - Cree una instancia del modelo.\n",
    "  - Entrenar el modelo sobre los datos y almacenar la información aprendida de los datos.\n",
    "  - Predecir las etiquetas de nuevos datos.\n",
    "  \n",
    "Vamos a mostrar como se utiliza con un ejemplo, para ello vamos a reconocer correctamente los dígitos individuales escritos a mano (0–9) "
   ]
  },
  {
   "cell_type": "code",
   "execution_count": 17,
   "id": "be7da130",
   "metadata": {},
   "outputs": [],
   "source": [
    "import seaborn as sns\n",
    "from sklearn import svm\n",
    "svc = svm.SVC(gamma=0.001, C=100.) #creamos un estimado de tipo SVC\n",
    "import matplotlib.pyplot as plt\n",
    "from sklearn import datasets #son conjuntos de datos\n",
    "digits = datasets.load_digits()"
   ]
  },
  {
   "cell_type": "code",
   "execution_count": 18,
   "id": "fbee2596",
   "metadata": {},
   "outputs": [
    {
     "name": "stdout",
     "output_type": "stream",
     "text": [
      "hemos cargado 1797 arrays que corresponden a imagenes de dígitos con tamaño 8x8\n"
     ]
    }
   ],
   "source": [
    "print(\"hemos cargado \"+str(len(digits.images))+\" arrays que corresponden a imagenes de dígitos con tamaño 8x8\")"
   ]
  },
  {
   "cell_type": "code",
   "execution_count": 19,
   "id": "701b71c5",
   "metadata": {},
   "outputs": [
    {
     "data": {
      "text/plain": [
       "array([[ 0.,  0.,  5., 13.,  9.,  1.,  0.,  0.],\n",
       "       [ 0.,  0., 13., 15., 10., 15.,  5.,  0.],\n",
       "       [ 0.,  3., 15.,  2.,  0., 11.,  8.,  0.],\n",
       "       [ 0.,  4., 12.,  0.,  0.,  8.,  8.,  0.],\n",
       "       [ 0.,  5.,  8.,  0.,  0.,  9.,  8.,  0.],\n",
       "       [ 0.,  4., 11.,  0.,  1., 12.,  7.,  0.],\n",
       "       [ 0.,  2., 14.,  5., 10., 12.,  0.,  0.],\n",
       "       [ 0.,  0.,  6., 13., 10.,  0.,  0.,  0.]])"
      ]
     },
     "execution_count": 19,
     "metadata": {},
     "output_type": "execute_result"
    }
   ],
   "source": [
    "digits.images[0]"
   ]
  },
  {
   "cell_type": "code",
   "execution_count": 20,
   "id": "8f4b95e7",
   "metadata": {},
   "outputs": [
    {
     "data": {
      "text/plain": [
       "0"
      ]
     },
     "execution_count": 20,
     "metadata": {},
     "output_type": "execute_result"
    }
   ],
   "source": [
    "digits.target[0]"
   ]
  },
  {
   "cell_type": "code",
   "execution_count": 21,
   "id": "d332acc4",
   "metadata": {},
   "outputs": [
    {
     "data": {
      "text/plain": [
       "<matplotlib.image.AxesImage at 0x7fdb5a838fd0>"
      ]
     },
     "execution_count": 21,
     "metadata": {},
     "output_type": "execute_result"
    },
    {
     "data": {
      "image/png": "[encoded data removed]",
      "text/plain": [
       "<Figure size 432x288 with 1 Axes>"
      ]
     },
     "metadata": {
      "needs_background": "light"
     },
     "output_type": "display_data"
    }
   ],
   "source": [
    "plt.imshow(digits.images[0], cmap=plt.cm.gray_r, interpolation='nearest')"
   ]
  },
  {
   "cell_type": "code",
   "execution_count": 6,
   "id": "5c7108ec",
   "metadata": {},
   "outputs": [
    {
     "data": {
      "text/plain": [
       "array([[ 0.,  0.,  0., 12., 13.,  0.,  0.,  0.],\n",
       "       [ 0.,  0.,  5., 16., 10.,  0.,  0.,  0.],\n",
       "       [ 0.,  6., 16., 13., 11., 12.,  2.,  0.],\n",
       "       [ 0., 12., 16., 10., 15., 16.,  9.,  0.],\n",
       "       [ 0.,  4., 14., 16., 16., 12.,  4.,  0.],\n",
       "       [ 0.,  0.,  0., 14., 13.,  0.,  0.,  0.],\n",
       "       [ 0.,  0.,  0., 14., 12.,  0.,  0.,  0.],\n",
       "       [ 0.,  0.,  0., 11., 13.,  0.,  0.,  0.]])"
      ]
     },
     "execution_count": 6,
     "metadata": {},
     "output_type": "execute_result"
    }
   ],
   "source": [
    "digits.images[121]"
   ]
  },
  {
   "cell_type": "code",
   "execution_count": 7,
   "id": "5821c278",
   "metadata": {},
   "outputs": [
    {
     "data": {
      "text/plain": [
       "<matplotlib.image.AxesImage at 0x7fdb5cc027c0>"
      ]
     },
     "execution_count": 7,
     "metadata": {},
     "output_type": "execute_result"
    },
    {
     "data": {
      "image/png": "[encoded data removed]",
      "text/plain": [
       "<Figure size 432x288 with 1 Axes>"
      ]
     },
     "metadata": {
      "needs_background": "light"
     },
     "output_type": "display_data"
    }
   ],
   "source": [
    "plt.imshow(digits.images[121], cmap=plt.cm.gray_r, interpolation='nearest')"
   ]
  },
  {
   "cell_type": "code",
   "execution_count": 8,
   "id": "f8253473",
   "metadata": {},
   "outputs": [
    {
     "data": {
      "text/plain": [
       "4"
      ]
     },
     "execution_count": 8,
     "metadata": {},
     "output_type": "execute_result"
    }
   ],
   "source": [
    "digits.target[121]"
   ]
  },
  {
   "cell_type": "markdown",
   "id": "416fd74c",
   "metadata": {},
   "source": [
    "Ahora vamos a entrenar el estimador svc que hemos definido anteriormente."
   ]
  },
  {
   "cell_type": "code",
   "execution_count": 9,
   "id": "4aefa5cc",
   "metadata": {},
   "outputs": [
    {
     "data": {
      "text/plain": [
       "SVC(C=100.0, gamma=0.001)"
      ]
     },
     "execution_count": 9,
     "metadata": {},
     "output_type": "execute_result"
    }
   ],
   "source": [
    "svc.fit(digits.data[1:1790],digits.target[1:1790])"
   ]
  },
  {
   "cell_type": "markdown",
   "id": "c6f82fc6",
   "metadata": {},
   "source": [
    "Ahora tenemos que probar nuestro estimador, haciéndolo interpretar los seis dígitos del conjunto de validación."
   ]
  },
  {
   "cell_type": "code",
   "execution_count": 10,
   "id": "17491f65",
   "metadata": {},
   "outputs": [
    {
     "data": {
      "image/png": "[encoded data removed]",
      "text/plain": [
       "<Figure size 720x216 with 5 Axes>"
      ]
     },
     "metadata": {
      "needs_background": "light"
     },
     "output_type": "display_data"
    }
   ],
   "source": [
    "_, axes = plt.subplots(nrows=1, ncols=5, figsize=(10, 3))\n",
    "i=1791\n",
    "for ax in axes:\n",
    "    image=digits.images[i]\n",
    "    label=digits.target[i]\n",
    "    i+=1\n",
    "    ax.set_axis_off()\n",
    "    ax.imshow(image, cmap=plt.cm.gray_r, interpolation=\"nearest\")\n",
    "    ax.set_title(\"Training: %i\" % label)\n",
    "    digits.data[1791:1796]"
   ]
  },
  {
   "cell_type": "code",
   "execution_count": 11,
   "id": "b2d458a0",
   "metadata": {},
   "outputs": [
    {
     "data": {
      "text/plain": [
       "array([4, 9, 0, 8, 9])"
      ]
     },
     "execution_count": 11,
     "metadata": {},
     "output_type": "execute_result"
    }
   ],
   "source": [
    "predicted=svc.predict(digits.data[1791:1796])\n",
    "predicted"
   ]
  },
  {
   "cell_type": "code",
   "execution_count": 12,
   "id": "d99ce2e1",
   "metadata": {},
   "outputs": [
    {
     "data": {
      "text/plain": [
       "array([4, 9, 0, 8, 9])"
      ]
     },
     "execution_count": 12,
     "metadata": {},
     "output_type": "execute_result"
    }
   ],
   "source": [
    "digits.target[1791:1796]"
   ]
  },
  {
   "cell_type": "code",
   "execution_count": 13,
   "id": "133e99ac",
   "metadata": {},
   "outputs": [
    {
     "name": "stdout",
     "output_type": "stream",
     "text": [
      "Classification report for classifier SVC(C=100.0, gamma=0.001):\n",
      "              precision    recall  f1-score   support\n",
      "\n",
      "           0       1.00      1.00      1.00         1\n",
      "           4       1.00      1.00      1.00         1\n",
      "           8       1.00      1.00      1.00         1\n",
      "           9       1.00      1.00      1.00         2\n",
      "\n",
      "    accuracy                           1.00         5\n",
      "   macro avg       1.00      1.00      1.00         5\n",
      "weighted avg       1.00      1.00      1.00         5\n",
      "\n",
      "\n"
     ]
    }
   ],
   "source": [
    "from sklearn import metrics\n",
    "\n",
    "print(\n",
    "    f\"Classification report for classifier {svc}:\\n\"\n",
    "    f\"{metrics.classification_report(digits.target[1791:1796], predicted)}\\n\"\n",
    ")"
   ]
  },
  {
   "cell_type": "code",
   "execution_count": 14,
   "id": "7648e2bd",
   "metadata": {},
   "outputs": [
    {
     "data": {
      "text/plain": [
       "<AxesSubplot:>"
      ]
     },
     "execution_count": 14,
     "metadata": {},
     "output_type": "execute_result"
    },
    {
     "data": {
      "image/png": "[encoded data removed]",
      "text/plain": [
       "<Figure size 432x288 with 2 Axes>"
      ]
     },
     "metadata": {
      "needs_background": "light"
     },
     "output_type": "display_data"
    }
   ],
   "source": [
    "from sklearn.metrics import confusion_matrix\n",
    "C=confusion_matrix(digits.target[1791:1796],predicted)\n",
    "sns.heatmap(C, annot = True, cmap = 'Blues')"
   ]
  },
  {
   "cell_type": "code",
   "execution_count": 15,
   "id": "e0f28d90",
   "metadata": {},
   "outputs": [
    {
     "name": "stdout",
     "output_type": "stream",
     "text": [
      "Classification report for classifier SVC(C=100.0, gamma=0.001):\n",
      "              precision    recall  f1-score   support\n",
      "\n",
      "           0       1.00      0.99      0.99        79\n",
      "           1       0.99      0.95      0.97        80\n",
      "           2       0.99      0.99      0.99        77\n",
      "           3       0.97      0.87      0.92        79\n",
      "           4       0.99      0.95      0.97        83\n",
      "           5       0.95      0.99      0.97        82\n",
      "           6       0.99      0.99      0.99        80\n",
      "           7       0.96      1.00      0.98        80\n",
      "           8       0.93      1.00      0.96        76\n",
      "           9       0.94      0.98      0.96        81\n",
      "\n",
      "    accuracy                           0.97       797\n",
      "   macro avg       0.97      0.97      0.97       797\n",
      "weighted avg       0.97      0.97      0.97       797\n",
      "\n",
      "\n"
     ]
    },
    {
     "data": {
      "text/plain": [
       "<AxesSubplot:>"
      ]
     },
     "execution_count": 15,
     "metadata": {},
     "output_type": "execute_result"
    },
    {
     "data": {
      "image/png": "[encoded data removed]",
      "text/plain": [
       "<Figure size 432x288 with 2 Axes>"
      ]
     },
     "metadata": {
      "needs_background": "light"
     },
     "output_type": "display_data"
    }
   ],
   "source": [
    "fin=1000\n",
    "svc.fit(digits.data[0:fin],digits.target[0:fin])\n",
    "predicted=svc.predict(digits.data[fin:len(digits.data)])\n",
    "C=confusion_matrix(digits.target[fin:len(digits.data)],predicted)\n",
    "print(\n",
    "    f\"Classification report for classifier {svc}:\\n\"\n",
    "    f\"{metrics.classification_report(digits.target[fin:len(digits.data)], predicted)}\\n\"\n",
    ")\n",
    "sns.heatmap(C, annot = True, cmap = 'Blues')"
   ]
  },
  {
   "cell_type": "code",
   "execution_count": 16,
   "id": "fe8fa84a",
   "metadata": {},
   "outputs": [
    {
     "data": {
      "text/plain": [
       "'Esribe tu código aquí'"
      ]
     },
     "execution_count": 16,
     "metadata": {},
     "output_type": "execute_result"
    }
   ],
   "source": [
    "\"\"\"Esribe tu código aquí\"\"\""
   ]
  },
  {
   "cell_type": "markdown",
   "id": "916911e5",
   "metadata": {},
   "source": [
    "<hr>\n",
    "<b><font color='red'>Ejercicio 01</font></b>  \n",
    "\n",
    "Entrena al modelo utilizando los 500, 200 y 20 primeros dígitos y pruebalo con los 200 siguientes, obten la matriz de confución para cada caso como se muestra a continuación:\n",
    "<img src=\"digit.png\" ALIGN=\"left\">"
   ]
  },
  {
   "cell_type": "code",
   "execution_count": null,
   "id": "317d1da6",
   "metadata": {},
   "outputs": [],
   "source": []
  },
  {
   "cell_type": "code",
   "execution_count": null,
   "id": "d3abddbe",
   "metadata": {},
   "outputs": [],
   "source": []
  }
 ],
 "metadata": {
  "kernelspec": {
   "display_name": "Python 3",
   "language": "python",
   "name": "python3"
  },
  "language_info": {
   "codemirror_mode": {
    "name": "ipython",
    "version": 3
   },
   "file_extension": ".py",
   "mimetype": "text/x-python",
   "name": "python",
   "nbconvert_exporter": "python",
   "pygments_lexer": "ipython3",
   "version": "3.8.10"
  }
 },
 "nbformat": 4,
 "nbformat_minor": 5
}
