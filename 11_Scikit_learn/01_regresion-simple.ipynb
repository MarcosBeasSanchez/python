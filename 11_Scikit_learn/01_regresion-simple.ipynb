{
 "cells": [
  {
   "cell_type": "markdown",
   "metadata": {},
   "source": [
    "__Cuaderno de trabajo de:__ Nombre Apellido"
   ]
  },
  {
   "cell_type": "markdown",
   "metadata": {},
   "source": [
    "# Regresión lineal simple\n",
    "\n",
    "Vamos a seguir el capítulo 3 del libro [\"Introduction to Statistical Learning\"](http://www-bcf.usc.edu/~gareth/ISL/), una elección popular escrita por protagonistas del campo, ameno de leer y que podéis descargar gratis de su página web. <br>\n",
    "El libro usa R, pero los ejemplos han sido [migrados a python](https://github.com/JWarmenhoven/ISLR-python).\n",
    "En este cuaderno sólo vamos a trabajar el caso más sencillo: la \"Regresión lineal simple\".<br>  \n",
    "- Cargar los datos\n",
    "- Análisis de regresión\n",
    "- Regresión Lineal Simple\n",
    "    - numpy.polyfit\n",
    "    - scikit_learn\n",
    "    - statsmodels"
   ]
  },
  {
   "cell_type": "code",
   "execution_count": null,
   "metadata": {},
   "outputs": [],
   "source": [
    "import pandas as pd\n",
    "import numpy as np\n",
    "import matplotlib.pyplot as plt\n",
    "import seaborn as sns\n",
    "import sklearn.linear_model as skl_lm\n",
    "import statsmodels.formula.api as smf\n",
    "\n",
    "%matplotlib inline\n",
    "plt.style.use('seaborn-white')"
   ]
  },
  {
   "cell_type": "markdown",
   "metadata": {},
   "source": [
    "## Cargamos los datos\n",
    "\n",
    "Cargamos \"advertising.cvs\", es un conjunto de datos publicitarios, las ventas, en miles\n",
    "de unidades, en función de los presupuestos de TV, radio y periódicos, en miles de\n",
    "dólares, para 200 mercados diferentes. "
   ]
  },
  {
   "cell_type": "code",
   "execution_count": null,
   "metadata": {},
   "outputs": [],
   "source": [
    "advertising = pd.read_csv('advertising.csv', usecols=[1,2,3,4])\n",
    "advertising.info()"
   ]
  },
  {
   "cell_type": "code",
   "execution_count": null,
   "metadata": {},
   "outputs": [],
   "source": [
    "advertising.head()"
   ]
  },
  {
   "cell_type": "code",
   "execution_count": null,
   "metadata": {},
   "outputs": [],
   "source": [
    "fig, (ax1,ax2,ax3) = plt.subplots(1,3,figsize = (12, 3))\n",
    "sns.scatterplot(x='TV', y='Sales',data=advertising,ax=ax1)\n",
    "sns.scatterplot(x='Radio', y='Sales',data=advertising,ax=ax2)\n",
    "sns.scatterplot(x='Newspaper', y='Sales',data=advertising,ax=ax3)\n",
    "plt.show()\n"
   ]
  },
  {
   "cell_type": "markdown",
   "metadata": {},
   "source": [
    "## Regresión y ajuste de modelos\n",
    "\n",
    "\n",
    "El análisis de regresión consiste en encontrar un  **modelo** que relaciona los valores medidos de una variable **objetivo** (tb se llama la **respuesta**) en función de un conjunto de variables **explicativas** (tb **variables predictoras**, o **regresores**).\n",
    "\n",
    "Los valores medidos en el mundo real nunca se ajustan de forma perfecta a un modelo, debido en primer lugar a errores de medida, pero también a que cualquier modelo matemático es una *simplificación* del mundo real, y si tuviera en cuenta todos los factores que influyen en un conjunto de variables, sería inmanejable.\n",
    "\n",
    "Por tanto, no tiene sentido aspirar a encontrar un modelo que prediga exactamente los valores medidos, y debemos admitir que el modelo cometerá un cierto error."
   ]
  },
  {
   "cell_type": "markdown",
   "metadata": {},
   "source": [
    "Un modelo útil encuentra una relación funcional sencilla en conjuntos de pocas variables. Se trata de explicar una variable objetivo en función de otro conjunto de variables mejor conocidas o más fáciles de medir. El  **análisis de regresión**  (más exactamente, el análisis de regresión  *paramétrico*) permite encontrar un modelo explicativo en dos etapas:\n",
    "\n",
    "\n",
    " 1. Nuestro conocimiento del tema en cuestión nos permite escribir un modelo que afirma que la variable  $Y$  es una función de las variables $X_1,\\dots,X_p$ que podemos conocer, y de otras variables $\\varepsilon_1,\\dots,\\varepsilon_k$ que no conocemos. La variable  $Y$ se suele llamar la **respuesta** y las variables  $X_1,\\dots,X_p$ se llaman  **variables predictoras**:\n",
    "\n",
    "$$\n",
    "Y = f(X_1,\\dots,X_p, \\varepsilon_1,\\dots,\\varepsilon_k)\n",
    "$$\n",
    " \n",
    " Sin embargo, no conocemos a priori la expresión de la función. En la **regresión paramétrica**, la función depende de unos pocos  **parámetros**  libres.\n"
   ]
  },
  {
   "cell_type": "markdown",
   "metadata": {},
   "source": [
    "## Regresión Lineal Simple\n",
    "\n",
    "Ajustamos un modelo lineal entre dos variables:\n",
    "\n",
    "$$\n",
    "Ventas = \\beta_0 + \\beta_1 \\times TV + \\varepsilon \\thickapprox \\beta_0 + \\beta_1 \\times TV\n",
    "$$\n",
    "\n",
    "Cada par de valores $(\\beta_0, \\beta_1)$ corresponde a una recta distinta.\n",
    "\n",
    "### Ajuste por minímos cuadrados\n",
    "Como podemos ver nuestra recta de ajuste quedará definida cuando obtengamos $\\beta_0$ y $\\beta_1$, es decir tenemos los siguientes datos:\n",
    "\n",
    "Dibujamos la recta ajustada por mínimos cuadrados:\n",
    "$$(x_1,y_1),(x_2,y_2),...,(x_n,y_n)$$\n",
    "El residuo en cada punto $e_i$ representaría la distancia del punto a la recta estimadada \n",
    "$$e_i=y_i-\\beta_0 - \\beta_1 \\times x_i$$\n",
    "Donde la suma de los residuos $RSS$ quedaría como:\n",
    "$$ RSS=e^2_1+e^2_2+...+e^2_n = (y_1-\\beta_0 - \\beta_1 \\times x_1)^2+...+(y_n-\\beta_0 - \\beta_1 \\times x_n)^2$$\n",
    "Si minimizamos $RSS$ obtenemos que:\n",
    "$$\\beta_1 = \\frac{\\sum_{i=1}^{n}(x_i-\\overline{x})(y_i-\\overline{y})}{\\sum_{i=1}^{n}(x_i-\\overline{x})^2}\n",
    "\\newline\n",
    "\\beta_0 = \\overline{y}-\\beta_1 \\overline{x} $$\n",
    "donde $\\overline{x}$ representa la media $\\overline{x}=\\frac{1}{n}\\sum_{i=1}^{n}x_i$"
   ]
  },
  {
   "cell_type": "code",
   "execution_count": null,
   "metadata": {},
   "outputs": [],
   "source": [
    "def ajuste_minimos_cuadrados(x,y):\n",
    "    b1=0\n",
    "    b1_n=0\n",
    "    b1_d=0\n",
    "    for i in range(len(x)):\n",
    "        b1_n = b1_n + (x[i]- np.mean(x))*(y[i]- np.mean(y))\n",
    "        b1_d = b1_d + (x[i]-np.mean(x))**2\n",
    "    b1=b1_n/b1_d\n",
    "    b0=np.mean(y)-b1*np.mean(x)\n",
    "    return b1,b0\n",
    "\n",
    "\n",
    "x = np.array([1.0,2.0,3.0,4.0,5.0,6.0])\n",
    "y = np.array([1.2,1.5,2.4,3.1,5.6,5.8])\n",
    "#pintamos los puntos\n",
    "plt.plot(x, y, 'o',color=\"cornflowerblue\")\n",
    "\n",
    "b1,b0 = ajuste_minimos_cuadrados(x,y)\n",
    "#pintamos la recta\n",
    "plt.plot(x, b1*x + b0,color='orange')\n",
    "\n",
    "#pintamos los residuos\n",
    "for i in range(len(x)):\n",
    "    aux_x=np.array([x[i],x[i]])\n",
    "    aux_y=np.array([y[i],b1*x[i]+(b0)])\n",
    "    plt.plot(aux_x,aux_y,color=\"r\")\n",
    "\n",
    "    \n",
    "plt.show()\n",
    "print(\"y = (\",b1,')* x +(',b0,')')"
   ]
  },
  {
   "cell_type": "code",
   "execution_count": null,
   "metadata": {},
   "outputs": [],
   "source": [
    "#Cargamos los datos definidos en advertising.csv\n",
    "x = np.array(advertising.TV) #np.array(advertising['TV'])\n",
    "y = np.array(advertising.Sales)\n",
    "plt.plot(x, y, 'o',color=\"cornflowerblue\", markersize=3)\n",
    "b1,b0 = ajuste_minimos_cuadrados(x,y)\n",
    "plt.plot(x, b1*x + b0,color='orange')\n",
    "for i in range(len(x)):\n",
    "    aux_x=np.array([x[i],x[i]])\n",
    "    aux_y=np.array([y[i],b1*x[i]+(b0)])\n",
    "    plt.plot(aux_x,aux_y,color=\"r\",linewidth=0.5)\n",
    "\n",
    "    \n",
    "plt.show()\n",
    "print(\"y = (\",b1,')* x +(',b0,')')"
   ]
  },
  {
   "cell_type": "code",
   "execution_count": null,
   "metadata": {},
   "outputs": [],
   "source": [
    "x = np.array(advertising.TV) #np.array(advertising['TV'])\n",
    "y = np.array(advertising.Sales)\n",
    "plt.plot(x, y, 'o',color=\"cornflowerblue\")\n",
    "b1, b0 = np.polyfit(x, y, 1) #ajustamos a polinomio de orden 1\n",
    "plt.plot(x, b1*x + b0,color='orange')\n",
    "print(\"y = (\",b1,')* x +(',b0,')')\n",
    "\n",
    "#m=[]\n",
    "#m=np.polyfit(x, y, 1)\n",
    "#print(m)\n",
    "#plt.plot(x, m[0]*x + m[1])\n",
    "\n",
    "plt.show()"
   ]
  },
  {
   "cell_type": "code",
   "execution_count": null,
   "metadata": {},
   "outputs": [],
   "source": [
    "#seaborn\n",
    "sns.regplot(x=advertising.TV, y=advertising.Sales, order=1, ci=None, scatter_kws={'color':'cornflowerblue', 's':30},color='orange')\n",
    "# ajusta aun polinómio de orden = order, para ello usa numpy.polyfit\n",
    "plt.xlim(-10,310)\n",
    "plt.ylim(ymin=0)\n",
    "plt.show()"
   ]
  },
  {
   "cell_type": "markdown",
   "metadata": {},
   "source": [
    "### scikit_learn\n",
    "\n",
    "La librería ``scikit_learn`` es una elección popular que cubre muchos algoritmos de estadística y machine learning.\n",
    "El funcionamiento de la regresión lineal es similar al de otros modelos más sofisticados:\n",
    "\n",
    "  - 1: Definimos un objeto de tipo \"LinearRegression\"\n",
    "\n",
    "```python\n",
    "regr = skl_lm.LinearRegression()\n",
    "```\n",
    "\n",
    "  - 2: El método ``fit`` **\"ajusta\"** la recta, encontrando los valores de $(a,b)$ para los que el error cuadrático cometido es menor. Necesita dos argumentos:\n",
    "      - Un **DataFrame** X con las variables predictoras. No acepta una serie, si sólo tenemos una variable predictora usamos un DataFrame con una sóla columna.\n",
    "      - Una **Serie** y con la variable objetivo.\n",
    "\n",
    "También admite arrays de numpy.\n",
    "\n",
    "```python\n",
    "X = advertising[['TV']]\n",
    "y = advertising.Sales\n",
    "\n",
    "regr.fit(X,y)\n",
    "```\n",
    "\n",
    "y ya tenemos el objeto ``regr`` que contiene la recta ajustada por mínimos cuadrados."
   ]
  },
  {
   "cell_type": "code",
   "execution_count": null,
   "metadata": {},
   "outputs": [],
   "source": [
    "# Usamos la librería scikit_learn\n",
    "regr = skl_lm.LinearRegression()\n",
    "\n",
    "X = advertising[['TV']]\n",
    "y = advertising.Sales\n",
    "\n",
    "regr.fit(X,y)\n",
    "\n",
    "#El objeto regr contiene los valores de los parametros\n",
    "#a,b donde y = b1*x + b0\n",
    "print(\"y = \",regr.coef_[0],'* x +',regr.intercept_)"
   ]
  },
  {
   "cell_type": "markdown",
   "metadata": {},
   "source": [
    "### Aplicar el modelo\n",
    "\n",
    "Una vez hemos encontrado los valores de los coeficientes que mejor ajustan a los datos, podemos usar esos valores para predecir el nivel de ventas, para la inversión en TV que se ha planificado para el próximo periodo.\n",
    "\n",
    "$$\n",
    "Ventas\\approx \\beta_0 + \\beta_1 \\times TV\n",
    "$$\n",
    "\n",
    "Si usamos el modelo para predecir la respuesta ante valores de las variables predictoras que están fuera del rango de los datos de **entrenamiento** (los datos que usamos para hacer el ajuste), decimos que estamos **extrapolando**."
   ]
  },
  {
   "cell_type": "markdown",
   "metadata": {},
   "source": [
    "Con scikit-learn:\n",
    "\n",
    "  - Podemos leer los coeficientes $(\\beta_0, \\beta_1)$\n",
    "\n",
    "```python\n",
    "print(regr.intercept_)  #beta0\n",
    "print(regr.coef_)       #beta1\n",
    "```\n",
    "\n",
    "  - Podemos usar el modelo para predecir qué ocurrirá ante determinados valores de las variables regresoras.\n",
    "\n",
    "```python\n",
    "regr.predict([[200]])\n",
    "```"
   ]
  },
  {
   "cell_type": "code",
   "execution_count": null,
   "metadata": {},
   "outputs": [],
   "source": [
    "#¿Qué ventas esperamos si la inversión en TV es de 200?\n",
    "print(regr.predict([[200]]))\n",
    "\n",
    "#¿Podemos pasar varios valores a la vez, pero tiene que\n",
    "#ser un array con shape L x 1\n",
    "xs = np.array([[200], [300]])\n",
    "print(regr.predict(xs))"
   ]
  },
  {
   "cell_type": "code",
   "execution_count": null,
   "metadata": {},
   "outputs": [],
   "source": [
    "# Suele ser útil introducir los datos como un DataFrame\n",
    "X = pd.DataFrame({\n",
    "    'TV': [200,300]\n",
    "})\n",
    "\n",
    "regr.predict(X)"
   ]
  },
  {
   "cell_type": "code",
   "execution_count": null,
   "metadata": {},
   "outputs": [],
   "source": [
    "#Otra notación alternativa para definir un DataFrame\n",
    "X = pd.DataFrame(\n",
    "    [\n",
    "        [200], [300]    \n",
    "    ],\n",
    "    columns=['TV']\n",
    ")\n",
    "\n",
    "regr.predict(X)"
   ]
  },
  {
   "cell_type": "code",
   "execution_count": null,
   "metadata": {},
   "outputs": [],
   "source": [
    "plt.figure(figsize=(7,7))\n",
    "sns.regplot(x=advertising.TV, y=advertising.Sales, order=1, ci=None,  scatter_kws={'color':'cornflowerblue', 's':30})\n",
    "xs = np.array([[350], [400]])\n",
    "plt.scatter(xs, regr.predict(xs), color='purple', label='extrapolando')\n",
    "plt.xlim(-10,410)\n",
    "plt.ylim(ymin=0)\n",
    "plt.legend(loc='upper left')\n",
    "plt.show()"
   ]
  },
  {
   "cell_type": "code",
   "execution_count": null,
   "metadata": {},
   "outputs": [],
   "source": [
    "X = advertising[['TV']]\n",
    "y = advertising.Sales\n",
    "\n",
    "regr.score(X,y) #R²"
   ]
  },
  {
   "cell_type": "markdown",
   "metadata": {},
   "source": [
    "## ¿Cómo decidimos si un modelo es bueno?\n",
    "\n",
    "Supongamos que el mejor modelo lineal que hemos encontrado es $y=f(x)=a * x + b $:\n",
    "\n",
    " - **TSS**: Total sum of squares: $\\Sigma_i (y_i-\\bar{y})^2$ (sumamos el cuadrado de la diferencia entre el dato $y_i$ y la media $\\bar{y}$)\n",
    " - **RSS**: Residual sum of squares:  $\\Sigma_i (y_i-f(x_i))^2$ (sumamos el cuadrado de la diferencia entre el dato $y_i$ y la predicción $f(x_i)$ usando nuestro modelo)\n",
    " - **RSS/TSS**: cociente entre la \"varianza residual\" y la \"varianza total\"\n",
    " - **R-cuadrado**: \"porcentaje de la varianza que el modelo explica\". \n",
    "$$\n",
    "R^2 = 1 - \\frac{RSS}{TSS}\n",
    "$$\n",
    "\n",
    "```python\n",
    "#Calcula R^2\n",
    "regr.score(X,y)\n",
    "```"
   ]
  },
  {
   "cell_type": "markdown",
   "metadata": {},
   "source": [
    "El **\"estadístico\" $R^2$** sólo puede tomar valores entre 0 y 1:\n",
    "   - Si vale 0, es que RSS=TSS, luego el modelo tiene el mismo error cuadrático total que tomar $f(x)=\\bar{y}$.\n",
    "   - Si vale 1, es que RSS=0, luego los datos se ajustan de forma \"perfecta\" al modelo.\n",
    "\n",
    "> - *¿Cuándo ocurre RSS=1?*\n",
    "\n",
    "Cuando $y_i=f(x_i) = \\beta_0 + x_i\\beta_1$ para cada $i$. Es decir, *cuando hay una relación lineal entre el vector $x_i$ y el vector $y_i$*. Pero sabemos que hay una relación lineal entre dos series de puntos si y sólo la correlación es 1 o -1. De hecho, *para regresión lineal simple*, $R^2$ es *exactamente* la correlación al cuadrado.\n",
    "\n",
    "Sin embargo, veremos que para regresión lineal múltiple, el estadístico $R^2$ ofrece información que las correlaciones no aportan."
   ]
  },
  {
   "cell_type": "markdown",
   "metadata": {},
   "source": [
    "### Statsmodels \n",
    "\n",
    "Vamos a usar también la librería statsmodel, que imita la sintaxis de la regresión lineal en ``R``.\n",
    "\n",
    "La fórmula ``Sales ~ TV`` significa que busca la recta de regresión\n",
    "$$\n",
    "Sales\\approx \\beta_0 + \\beta_1\\times TV + \\varepsilon\n",
    "$$\n",
    "\n",
    " - Ajustamos el modelo $Sales\\approx \\beta_0 + \\beta_1\\times TV + \\varepsilon$ usando el DataFrame ``advertising``.\n",
    " \n",
    "```python\n",
    "recta = smf.ols('Sales ~ TV', advertising).fit()\n",
    "```"
   ]
  },
  {
   "cell_type": "code",
   "execution_count": null,
   "metadata": {
    "scrolled": true
   },
   "outputs": [],
   "source": [
    "#Ajustamos el modelo $Sales\\approx a *TV + b +\\varepsilon$ usando el DataFrame ``advertising``\n",
    "recta = smf.ols('Sales ~ TV', advertising).fit()"
   ]
  },
  {
   "cell_type": "markdown",
   "metadata": {},
   "source": [
    " - Para predecir las ventas para uno o varios valores de inversión en TV, es necesario preparar un DataFrame que tenga una serie de datos de nombre 'TV':\n",
    "\n",
    "```python\n",
    "nuevos_datos = pd.DataFrame({\n",
    "    'TV': [TV_1, ..., TV_n ]\n",
    "})\n",
    "recta.predict(nuevos_datos)\n",
    "```"
   ]
  },
  {
   "cell_type": "code",
   "execution_count": null,
   "metadata": {},
   "outputs": [],
   "source": [
    "nuevos_datos = pd.DataFrame({\n",
    "    'TV': [100,150,200,250,300,350]\n",
    "})\n",
    "recta.predict(nuevos_datos)"
   ]
  },
  {
   "cell_type": "code",
   "execution_count": null,
   "metadata": {},
   "outputs": [],
   "source": [
    "recta.params"
   ]
  },
  {
   "cell_type": "code",
   "execution_count": null,
   "metadata": {},
   "outputs": [],
   "source": [
    "recta.rsquared"
   ]
  },
  {
   "cell_type": "markdown",
   "metadata": {},
   "source": [
    "#### Información extra sobre los coeficientes\n",
    "\n",
    "stasmodels ofrece información extra sobre el resultado de la regresión."
   ]
  },
  {
   "cell_type": "code",
   "execution_count": null,
   "metadata": {},
   "outputs": [],
   "source": [
    "recta.summary().tables[1]"
   ]
  },
  {
   "cell_type": "markdown",
   "metadata": {},
   "source": [
    "La primera fila contiene información sobre $a$ (**intercept**) y la segunda sobre $b$:\n",
    " - **coef** es la estimación del parámetro por mínimos cuadrados\n",
    " - **std err** es una medida de la incertidumbre en la estimación del parámetro\n",
    " - Las columnas **[0.025** y **0.975]** son los extremos de un \"intervalo de confianza al 95%\" para el valor del parámetro.\n",
    " - **t** es el valor del \"t-statistic\": si es bajo, quiere decir que la variable TV realmente no es de gran ayuda para predecir las ventas.\n",
    " - **P>|t|** es el *\"p-valor\"* asociado al valor anterior del t-estadístico. Toma valores entre 0 y 1. Un valor cercano a 1 se interpreta como *\"se puede defender que Sales no depende de TV\"*, y un valor cercano a 0 viene a ser *\"realmente parece que TV es un buen predictor del valor de Sales\"*. Un valor típico para comparar es p=0.05 o p=0.01. En este caso es aún menor.\n",
    "\n",
    "Por favor leed las lecturas recomendadas (por ejemplo, la sección 3.1 del Introduction to Statistical Learning) para profundizar sobre estos números. La semana que viene hablaremos de ellos más despacio."
   ]
  },
  {
   "cell_type": "markdown",
   "metadata": {},
   "source": [
    "<hr>\n",
    "<b><font color='red'>Ejercicio 01</font></b>  \n",
    "\n",
    "Hemos trabajado los datos para la TV, ajusta ahora los datos para la radio y los periodicos, pinta los puntos y la recta.\n",
    "Haz que salgan tambien los diferentes parametros de ajuste, es decir el valor de a, b y R²"
   ]
  },
  {
   "cell_type": "code",
   "execution_count": null,
   "metadata": {},
   "outputs": [],
   "source": [
    "#para la radio\n",
    "\"\"\"Esribe tu código aquí\"\"\""
   ]
  },
  {
   "cell_type": "code",
   "execution_count": null,
   "metadata": {},
   "outputs": [],
   "source": [
    "#para los periódicos\n",
    "\"\"\"Esribe tu código aquí\"\"\""
   ]
  },
  {
   "cell_type": "markdown",
   "metadata": {},
   "source": [
    "<hr>\n",
    "<b><font color='red'>Ejercicio 02</font></b>  "
   ]
  },
  {
   "cell_type": "markdown",
   "metadata": {},
   "source": [
    "Tratamos de predecir la temperatura a la que hierve el agua ( T ), conocida la presión atmosférica ( P ) en el lugar y momento en que hacemos el experimento.\n",
    "\n",
    "Para ello, contamos con un conjunto de mediciones de ambas variables, con la temperatura en grados Fahrenheit y la presión en pulgadas de mercurio (sea lo que sea, es una unidad de medidad de presión). Por ejemplo, en un cierto punto de los Alpes, un cierto día, el barómetro marcaba 20.79 pulgadas de mercurio, y el agua hirvió a 194.5 grados Fahrenheit. Las mediciones se realizaron en el mismo lugar geográfico, pero en días distintos, con distintas condiciones atmosféricas y quizá incluso por personas distintas. En estas condiciones, es imposible que ningún modelo prediga con exactitud el valor de T en función de P, pero esperamos que lo haga con un margen de error moderado."
   ]
  },
  {
   "cell_type": "markdown",
   "metadata": {},
   "source": [
    "$$\n",
    "\\begin{array}{rrrrrrrrrr}\n",
    "T&194.5 & 194.3 & 197.9 & 198.4 & 199.4 & 199.9 & 200.9 & 201.1 & 201.4 & 201.3 & 203.6 & 204.6 & 209.5 & 208.6 & 210.7 & 211.9 & 212.2\\\\\n",
    "P &20.79&  20.79&  22.4 &  22.67&  23.15&  23.35&  23.89&  23.99& 24.02&  24.01&  25.14&  26.57&  28.49&  27.76&  29.04&  29.88& 30.06\n",
    "\\end{array}\n",
    "$$"
   ]
  },
  {
   "cell_type": "markdown",
   "metadata": {},
   "source": [
    " - Ajusta un modelo lineal a estos datos\n",
    " - Calcula el valor de $R^2$ del ajuste\n",
    " - Usa el modelo para predecir la temperatura de ebullición del agua cuando la presión es de 26 \"pulgadas de mercurio\"."
   ]
  },
  {
   "cell_type": "code",
   "execution_count": null,
   "metadata": {},
   "outputs": [],
   "source": [
    "datos = np.array(\n",
    "        [(20.79,194.50),(20.79,194.30),(22.40,197.90),(22.67,198.40),\n",
    "         (23.15,199.40),(23.35,199.90),(23.89,200.90),(23.99,201.10),\n",
    "         (24.02,201.40),(24.01,201.30),(25.14,203.60),(26.57,204.60),\n",
    "         (28.49,209.50),(27.76,208.60),(29.04,210.70),(29.88,211.90),\n",
    "         (30.06,212.20)])"
   ]
  },
  {
   "cell_type": "code",
   "execution_count": null,
   "metadata": {},
   "outputs": [],
   "source": [
    "\"\"\"Esribe tu código aquí\"\"\""
   ]
  },
  {
   "cell_type": "markdown",
   "metadata": {},
   "source": [
    "<hr>\n",
    "<b><font color='red'>Ejercicio 03</font></b>  "
   ]
  },
  {
   "cell_type": "code",
   "execution_count": null,
   "metadata": {},
   "outputs": [],
   "source": [
    "#Utliza el archivo super.cvs\n",
    "#Haz un ajuste por mínimos cuadrados del número de articulos respecto al precio\n",
    "\"\"\"Esribe tu código aquí\"\"\""
   ]
  },
  {
   "cell_type": "code",
   "execution_count": null,
   "metadata": {},
   "outputs": [],
   "source": [
    "#Utliza el archivo super.cvs\n",
    "#Haz un ajuste por mínimos cuadrados del número de articulos respecto al precio\n",
    "\"\"\"Esribe tu código aquí\"\"\""
   ]
  },
  {
   "cell_type": "code",
   "execution_count": null,
   "metadata": {},
   "outputs": [],
   "source": [
    "#¿En el caso de que una persona comprase 40 artículos cual sereía la estimación del precio utilizando el valor medio y el modelo que has utilizado ?\n",
    "\"\"\"Esribe tu código aquí\"\"\""
   ]
  },
  {
   "cell_type": "code",
   "execution_count": null,
   "metadata": {},
   "outputs": [],
   "source": []
  }
 ],
 "metadata": {
  "kernelspec": {
   "display_name": "Python 3",
   "language": "python",
   "name": "python3"
  },
  "language_info": {
   "codemirror_mode": {
    "name": "ipython",
    "version": 3
   },
   "file_extension": ".py",
   "mimetype": "text/x-python",
   "name": "python",
   "nbconvert_exporter": "python",
   "pygments_lexer": "ipython3",
   "version": "3.8.10"
  }
 },
 "nbformat": 4,
 "nbformat_minor": 4
}
